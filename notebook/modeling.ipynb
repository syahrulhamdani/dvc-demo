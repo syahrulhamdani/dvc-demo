{
 "cells": [
  {
   "cell_type": "code",
   "source": "import json\nfrom pathlib import Path\n\nimport joblib\nimport pandas as pd\nfrom sklearn.compose import ColumnTransformer\nfrom sklearn.linear_model import LogisticRegression\nfrom sklearn.metrics import classification_report\nfrom sklearn.pipeline import Pipeline\nfrom sklearn.preprocessing import StandardScaler, OneHotEncoder",
   "metadata": {
    "cell_id": "63a67c95345d44ceb62795986e16aeaf",
    "tags": [],
    "deepnote_to_be_reexecuted": false,
    "source_hash": "ebc50abe",
    "execution_start": 1667727283003,
    "execution_millis": 1,
    "deepnote_cell_type": "code",
    "deepnote_cell_height": 238
   },
   "outputs": [],
   "execution_count": null
  },
  {
   "cell_type": "markdown",
   "source": "# Modeling\n\nIn this notebook, we will try to do simple modeling for the purpose of demo.",
   "metadata": {
    "cell_id": "e51e0af85048429d92d3468d56225329",
    "tags": [],
    "deepnote_cell_type": "markdown",
    "deepnote_cell_height": 120.390625
   }
  },
  {
   "cell_type": "markdown",
   "source": "## Constants & Hyperparameters",
   "metadata": {
    "cell_id": "55932cbcccd64b85aa645c313a5d7ba1",
    "tags": [],
    "deepnote_cell_type": "markdown",
    "deepnote_cell_height": 70
   }
  },
  {
   "cell_type": "code",
   "source": "DATA_SPLIT_DIR = Path(\"../data/split\")\nDATA_TRAIN_FILEPATH = DATA_SPLIT_DIR / \"phishing_train.csv\"\nDATA_TEST_FILEPATH = DATA_SPLIT_DIR / \"phishing_test.csv\"\n\nOUTPUTS_DIR = Path(\"../outputs\")\nMODELS_DIR = OUTPUTS_DIR / \"models\"",
   "metadata": {
    "cell_id": "9b74cf14b54c486ab25c6397dce04246",
    "tags": [],
    "deepnote_to_be_reexecuted": false,
    "source_hash": "db98e780",
    "execution_start": 1667725336968,
    "execution_millis": 0,
    "deepnote_cell_type": "code",
    "deepnote_cell_height": 166
   },
   "outputs": [],
   "execution_count": null
  },
  {
   "cell_type": "markdown",
   "source": "## Dataset",
   "metadata": {
    "cell_id": "ccf34532e488429e8a8dd82023109842",
    "tags": [],
    "deepnote_cell_type": "markdown",
    "deepnote_cell_height": 70
   }
  },
  {
   "cell_type": "code",
   "metadata": {
    "tags": [],
    "cell_id": "9d4b0a2f-c4ed-40ad-8be4-072aba41fd10",
    "deepnote_to_be_reexecuted": false,
    "source_hash": "8d93bc44",
    "execution_start": 1667724544464,
    "execution_millis": 38,
    "deepnote_cell_type": "code",
    "deepnote_cell_height": 198.390625
   },
   "source": "df_train = pd.read_csv(DATA_TRAIN_FILEPATH)\ndf_test = pd.read_csv(DATA_TEST_FILEPATH)\n\nprint(\"Train size:\", df_train.shape)\nprint(\"Test size:\", df_test.shape)",
   "outputs": [
    {
     "name": "stdout",
     "text": "Train size: (9080, 24)\nTest size: (2270, 24)\n",
     "output_type": "stream"
    }
   ],
   "execution_count": null
  },
  {
   "cell_type": "code",
   "metadata": {
    "cell_id": "614db865e0ab4519adc1f81a731db4ad",
    "tags": [],
    "deepnote_to_be_reexecuted": false,
    "source_hash": "5e2a9c26",
    "execution_start": 1667724545006,
    "execution_millis": 32,
    "deepnote_cell_type": "code",
    "deepnote_cell_height": 390
   },
   "source": "df_train.head()",
   "outputs": [
    {
     "output_type": "execute_result",
     "execution_count": 4,
     "data": {
      "application/vnd.deepnote.dataframe.v3+json": {
       "column_count": 24,
       "row_count": 5,
       "columns": [
        {
         "name": "month",
         "dtype": "int64",
         "stats": {
          "unique_count": 4,
          "nan_count": 0,
          "min": "1",
          "max": "12",
          "histogram": [
           {
            "bin_start": 1,
            "bin_end": 2.1,
            "count": 2
           },
           {
            "bin_start": 2.1,
            "bin_end": 3.2,
            "count": 1
           },
           {
            "bin_start": 3.2,
            "bin_end": 4.300000000000001,
            "count": 0
           },
           {
            "bin_start": 4.300000000000001,
            "bin_end": 5.4,
            "count": 0
           },
           {
            "bin_start": 5.4,
            "bin_end": 6.5,
            "count": 0
           },
           {
            "bin_start": 6.5,
            "bin_end": 7.6000000000000005,
            "count": 1
           },
           {
            "bin_start": 7.6000000000000005,
            "bin_end": 8.700000000000001,
            "count": 0
           },
           {
            "bin_start": 8.700000000000001,
            "bin_end": 9.8,
            "count": 0
           },
           {
            "bin_start": 9.8,
            "bin_end": 10.9,
            "count": 0
           },
           {
            "bin_start": 10.9,
            "bin_end": 12,
            "count": 1
           }
          ]
         }
        },
        {
         "name": "ext",
         "dtype": "object",
         "stats": {
          "unique_count": 3,
          "nan_count": 0,
          "categories": [
           {
            "name": "com",
            "count": 3
           },
           {
            "name": "net",
            "count": 1
           },
           {
            "name": "other",
            "count": 1
           }
          ]
         }
        },
        {
         "name": "urlLength",
         "dtype": "int64",
         "stats": {
          "unique_count": 5,
          "nan_count": 0,
          "min": "85",
          "max": "121",
          "histogram": [
           {
            "bin_start": 85,
            "bin_end": 88.6,
            "count": 1
           },
           {
            "bin_start": 88.6,
            "bin_end": 92.2,
            "count": 0
           },
           {
            "bin_start": 92.2,
            "bin_end": 95.8,
            "count": 0
           },
           {
            "bin_start": 95.8,
            "bin_end": 99.4,
            "count": 2
           },
           {
            "bin_start": 99.4,
            "bin_end": 103,
            "count": 1
           },
           {
            "bin_start": 103,
            "bin_end": 106.6,
            "count": 0
           },
           {
            "bin_start": 106.6,
            "bin_end": 110.2,
            "count": 0
           },
           {
            "bin_start": 110.2,
            "bin_end": 113.8,
            "count": 0
           },
           {
            "bin_start": 113.8,
            "bin_end": 117.4,
            "count": 0
           },
           {
            "bin_start": 117.4,
            "bin_end": 121,
            "count": 1
           }
          ]
         }
        },
        {
         "name": "numDigits",
         "dtype": "int64",
         "stats": {
          "unique_count": 5,
          "nan_count": 0,
          "min": "2",
          "max": "29",
          "histogram": [
           {
            "bin_start": 2,
            "bin_end": 4.7,
            "count": 1
           },
           {
            "bin_start": 4.7,
            "bin_end": 7.4,
            "count": 1
           },
           {
            "bin_start": 7.4,
            "bin_end": 10.100000000000001,
            "count": 0
           },
           {
            "bin_start": 10.100000000000001,
            "bin_end": 12.8,
            "count": 1
           },
           {
            "bin_start": 12.8,
            "bin_end": 15.5,
            "count": 0
           },
           {
            "bin_start": 15.5,
            "bin_end": 18.200000000000003,
            "count": 0
           },
           {
            "bin_start": 18.200000000000003,
            "bin_end": 20.900000000000002,
            "count": 1
           },
           {
            "bin_start": 20.900000000000002,
            "bin_end": 23.6,
            "count": 0
           },
           {
            "bin_start": 23.6,
            "bin_end": 26.3,
            "count": 0
           },
           {
            "bin_start": 26.3,
            "bin_end": 29,
            "count": 1
           }
          ]
         }
        },
        {
         "name": "numParams",
         "dtype": "int64",
         "stats": {
          "unique_count": 1,
          "nan_count": 0,
          "min": "0",
          "max": "0",
          "histogram": [
           {
            "bin_start": -0.5,
            "bin_end": -0.4,
            "count": 0
           },
           {
            "bin_start": -0.4,
            "bin_end": -0.3,
            "count": 0
           },
           {
            "bin_start": -0.3,
            "bin_end": -0.19999999999999996,
            "count": 0
           },
           {
            "bin_start": -0.19999999999999996,
            "bin_end": -0.09999999999999998,
            "count": 0
           },
           {
            "bin_start": -0.09999999999999998,
            "bin_end": 0,
            "count": 0
           },
           {
            "bin_start": 0,
            "bin_end": 0.10000000000000009,
            "count": 5
           },
           {
            "bin_start": 0.10000000000000009,
            "bin_end": 0.20000000000000007,
            "count": 0
           },
           {
            "bin_start": 0.20000000000000007,
            "bin_end": 0.30000000000000004,
            "count": 0
           },
           {
            "bin_start": 0.30000000000000004,
            "bin_end": 0.4,
            "count": 0
           },
           {
            "bin_start": 0.4,
            "bin_end": 0.5,
            "count": 0
           }
          ]
         }
        },
        {
         "name": "num_%20",
         "dtype": "int64",
         "stats": {
          "unique_count": 1,
          "nan_count": 0,
          "min": "0",
          "max": "0",
          "histogram": [
           {
            "bin_start": -0.5,
            "bin_end": -0.4,
            "count": 0
           },
           {
            "bin_start": -0.4,
            "bin_end": -0.3,
            "count": 0
           },
           {
            "bin_start": -0.3,
            "bin_end": -0.19999999999999996,
            "count": 0
           },
           {
            "bin_start": -0.19999999999999996,
            "bin_end": -0.09999999999999998,
            "count": 0
           },
           {
            "bin_start": -0.09999999999999998,
            "bin_end": 0,
            "count": 0
           },
           {
            "bin_start": 0,
            "bin_end": 0.10000000000000009,
            "count": 5
           },
           {
            "bin_start": 0.10000000000000009,
            "bin_end": 0.20000000000000007,
            "count": 0
           },
           {
            "bin_start": 0.20000000000000007,
            "bin_end": 0.30000000000000004,
            "count": 0
           },
           {
            "bin_start": 0.30000000000000004,
            "bin_end": 0.4,
            "count": 0
           },
           {
            "bin_start": 0.4,
            "bin_end": 0.5,
            "count": 0
           }
          ]
         }
        },
        {
         "name": "num_@",
         "dtype": "int64",
         "stats": {
          "unique_count": 1,
          "nan_count": 0,
          "min": "0",
          "max": "0",
          "histogram": [
           {
            "bin_start": -0.5,
            "bin_end": -0.4,
            "count": 0
           },
           {
            "bin_start": -0.4,
            "bin_end": -0.3,
            "count": 0
           },
           {
            "bin_start": -0.3,
            "bin_end": -0.19999999999999996,
            "count": 0
           },
           {
            "bin_start": -0.19999999999999996,
            "bin_end": -0.09999999999999998,
            "count": 0
           },
           {
            "bin_start": -0.09999999999999998,
            "bin_end": 0,
            "count": 0
           },
           {
            "bin_start": 0,
            "bin_end": 0.10000000000000009,
            "count": 5
           },
           {
            "bin_start": 0.10000000000000009,
            "bin_end": 0.20000000000000007,
            "count": 0
           },
           {
            "bin_start": 0.20000000000000007,
            "bin_end": 0.30000000000000004,
            "count": 0
           },
           {
            "bin_start": 0.30000000000000004,
            "bin_end": 0.4,
            "count": 0
           },
           {
            "bin_start": 0.4,
            "bin_end": 0.5,
            "count": 0
           }
          ]
         }
        },
        {
         "name": "entropy",
         "dtype": "float64",
         "stats": {
          "unique_count": 5,
          "nan_count": 0,
          "min": "-4.515268136739969",
          "max": "-4.11305358898609",
          "histogram": [
           {
            "bin_start": -4.515268136739969,
            "bin_end": -4.4750466819645816,
            "count": 1
           },
           {
            "bin_start": -4.4750466819645816,
            "bin_end": -4.434825227189194,
            "count": 1
           },
           {
            "bin_start": -4.434825227189194,
            "bin_end": -4.394603772413806,
            "count": 0
           },
           {
            "bin_start": -4.394603772413806,
            "bin_end": -4.354382317638418,
            "count": 2
           },
           {
            "bin_start": -4.354382317638418,
            "bin_end": -4.31416086286303,
            "count": 0
           },
           {
            "bin_start": -4.31416086286303,
            "bin_end": -4.273939408087641,
            "count": 0
           },
           {
            "bin_start": -4.273939408087641,
            "bin_end": -4.2337179533122535,
            "count": 0
           },
           {
            "bin_start": -4.2337179533122535,
            "bin_end": -4.193496498536866,
            "count": 0
           },
           {
            "bin_start": -4.193496498536866,
            "bin_end": -4.153275043761478,
            "count": 0
           },
           {
            "bin_start": -4.153275043761478,
            "bin_end": -4.11305358898609,
            "count": 1
           }
          ]
         }
        },
        {
         "name": "has_ip",
         "dtype": "int64",
         "stats": {
          "unique_count": 1,
          "nan_count": 0,
          "min": "0",
          "max": "0",
          "histogram": [
           {
            "bin_start": -0.5,
            "bin_end": -0.4,
            "count": 0
           },
           {
            "bin_start": -0.4,
            "bin_end": -0.3,
            "count": 0
           },
           {
            "bin_start": -0.3,
            "bin_end": -0.19999999999999996,
            "count": 0
           },
           {
            "bin_start": -0.19999999999999996,
            "bin_end": -0.09999999999999998,
            "count": 0
           },
           {
            "bin_start": -0.09999999999999998,
            "bin_end": 0,
            "count": 0
           },
           {
            "bin_start": 0,
            "bin_end": 0.10000000000000009,
            "count": 5
           },
           {
            "bin_start": 0.10000000000000009,
            "bin_end": 0.20000000000000007,
            "count": 0
           },
           {
            "bin_start": 0.20000000000000007,
            "bin_end": 0.30000000000000004,
            "count": 0
           },
           {
            "bin_start": 0.30000000000000004,
            "bin_end": 0.4,
            "count": 0
           },
           {
            "bin_start": 0.4,
            "bin_end": 0.5,
            "count": 0
           }
          ]
         }
        },
        {
         "name": "hasHttp",
         "dtype": "bool",
         "stats": {
          "unique_count": 1,
          "nan_count": 0,
          "categories": [
           {
            "name": "True",
            "count": 5
           }
          ]
         }
        },
        {
         "name": "hasHttps",
         "dtype": "bool",
         "stats": {
          "unique_count": 1,
          "nan_count": 0,
          "categories": [
           {
            "name": "False",
            "count": 5
           }
          ]
         }
        },
        {
         "name": "urlIsLive",
         "dtype": "bool",
         "stats": {
          "unique_count": 1,
          "nan_count": 0,
          "categories": [
           {
            "name": "False",
            "count": 5
           }
          ]
         }
        },
        {
         "name": "dsr",
         "dtype": "int64",
         "stats": {
          "unique_count": 5,
          "nan_count": 0,
          "min": "0",
          "max": "8176",
          "histogram": [
           {
            "bin_start": 0,
            "bin_end": 817.6,
            "count": 1
           },
           {
            "bin_start": 817.6,
            "bin_end": 1635.2,
            "count": 0
           },
           {
            "bin_start": 1635.2,
            "bin_end": 2452.8,
            "count": 0
           },
           {
            "bin_start": 2452.8,
            "bin_end": 3270.4,
            "count": 1
           },
           {
            "bin_start": 3270.4,
            "bin_end": 4088,
            "count": 0
           },
           {
            "bin_start": 4088,
            "bin_end": 4905.6,
            "count": 0
           },
           {
            "bin_start": 4905.6,
            "bin_end": 5723.2,
            "count": 1
           },
           {
            "bin_start": 5723.2,
            "bin_end": 6540.8,
            "count": 0
           },
           {
            "bin_start": 6540.8,
            "bin_end": 7358.400000000001,
            "count": 0
           },
           {
            "bin_start": 7358.400000000001,
            "bin_end": 8176,
            "count": 2
           }
          ]
         }
        },
        {
         "name": "dse",
         "dtype": "int64",
         "stats": {
          "unique_count": 5,
          "nan_count": 0,
          "min": "0",
          "max": "500",
          "histogram": [
           {
            "bin_start": 0,
            "bin_end": 50,
            "count": 1
           },
           {
            "bin_start": 50,
            "bin_end": 100,
            "count": 0
           },
           {
            "bin_start": 100,
            "bin_end": 150,
            "count": 0
           },
           {
            "bin_start": 150,
            "bin_end": 200,
            "count": 1
           },
           {
            "bin_start": 200,
            "bin_end": 250,
            "count": 1
           },
           {
            "bin_start": 250,
            "bin_end": 300,
            "count": 0
           },
           {
            "bin_start": 300,
            "bin_end": 350,
            "count": 1
           },
           {
            "bin_start": 350,
            "bin_end": 400,
            "count": 0
           },
           {
            "bin_start": 400,
            "bin_end": 450,
            "count": 0
           },
           {
            "bin_start": 450,
            "bin_end": 500,
            "count": 1
           }
          ]
         }
        },
        {
         "name": "bodyLength",
         "dtype": "int64",
         "stats": {
          "unique_count": 5,
          "nan_count": 0,
          "min": "71",
          "max": "336430",
          "histogram": [
           {
            "bin_start": 71,
            "bin_end": 33706.9,
            "count": 2
           },
           {
            "bin_start": 33706.9,
            "bin_end": 67342.8,
            "count": 1
           },
           {
            "bin_start": 67342.8,
            "bin_end": 100978.70000000001,
            "count": 1
           },
           {
            "bin_start": 100978.70000000001,
            "bin_end": 134614.6,
            "count": 0
           },
           {
            "bin_start": 134614.6,
            "bin_end": 168250.5,
            "count": 0
           },
           {
            "bin_start": 168250.5,
            "bin_end": 201886.40000000002,
            "count": 0
           },
           {
            "bin_start": 201886.40000000002,
            "bin_end": 235522.30000000002,
            "count": 0
           },
           {
            "bin_start": 235522.30000000002,
            "bin_end": 269158.2,
            "count": 0
           },
           {
            "bin_start": 269158.2,
            "bin_end": 302794.10000000003,
            "count": 0
           },
           {
            "bin_start": 302794.10000000003,
            "bin_end": 336430,
            "count": 1
           }
          ]
         }
        },
        {
         "name": "numTitles",
         "dtype": "int64",
         "stats": {
          "unique_count": 4,
          "nan_count": 0,
          "min": "0",
          "max": "48",
          "histogram": [
           {
            "bin_start": 0,
            "bin_end": 4.8,
            "count": 3
           },
           {
            "bin_start": 4.8,
            "bin_end": 9.6,
            "count": 0
           },
           {
            "bin_start": 9.6,
            "bin_end": 14.399999999999999,
            "count": 0
           },
           {
            "bin_start": 14.399999999999999,
            "bin_end": 19.2,
            "count": 1
           },
           {
            "bin_start": 19.2,
            "bin_end": 24,
            "count": 0
           },
           {
            "bin_start": 24,
            "bin_end": 28.799999999999997,
            "count": 0
           },
           {
            "bin_start": 28.799999999999997,
            "bin_end": 33.6,
            "count": 0
           },
           {
            "bin_start": 33.6,
            "bin_end": 38.4,
            "count": 0
           },
           {
            "bin_start": 38.4,
            "bin_end": 43.199999999999996,
            "count": 0
           },
           {
            "bin_start": 43.199999999999996,
            "bin_end": 48,
            "count": 1
           }
          ]
         }
        },
        {
         "name": "numImages",
         "dtype": "int64",
         "stats": {
          "unique_count": 4,
          "nan_count": 0,
          "min": "0",
          "max": "36",
          "histogram": [
           {
            "bin_start": 0,
            "bin_end": 3.6,
            "count": 3
           },
           {
            "bin_start": 3.6,
            "bin_end": 7.2,
            "count": 0
           },
           {
            "bin_start": 7.2,
            "bin_end": 10.8,
            "count": 0
           },
           {
            "bin_start": 10.8,
            "bin_end": 14.4,
            "count": 0
           },
           {
            "bin_start": 14.4,
            "bin_end": 18,
            "count": 0
           },
           {
            "bin_start": 18,
            "bin_end": 21.6,
            "count": 0
           },
           {
            "bin_start": 21.6,
            "bin_end": 25.2,
            "count": 0
           },
           {
            "bin_start": 25.2,
            "bin_end": 28.8,
            "count": 0
           },
           {
            "bin_start": 28.8,
            "bin_end": 32.4,
            "count": 0
           },
           {
            "bin_start": 32.4,
            "bin_end": 36,
            "count": 2
           }
          ]
         }
        },
        {
         "name": "numLinks",
         "dtype": "int64",
         "stats": {
          "unique_count": 5,
          "nan_count": 0,
          "min": "0",
          "max": "248",
          "histogram": [
           {
            "bin_start": 0,
            "bin_end": 24.8,
            "count": 2
           },
           {
            "bin_start": 24.8,
            "bin_end": 49.6,
            "count": 0
           },
           {
            "bin_start": 49.6,
            "bin_end": 74.4,
            "count": 1
           },
           {
            "bin_start": 74.4,
            "bin_end": 99.2,
            "count": 0
           },
           {
            "bin_start": 99.2,
            "bin_end": 124,
            "count": 0
           },
           {
            "bin_start": 124,
            "bin_end": 148.8,
            "count": 0
           },
           {
            "bin_start": 148.8,
            "bin_end": 173.6,
            "count": 0
           },
           {
            "bin_start": 173.6,
            "bin_end": 198.4,
            "count": 1
           },
           {
            "bin_start": 198.4,
            "bin_end": 223.20000000000002,
            "count": 0
           },
           {
            "bin_start": 223.20000000000002,
            "bin_end": 248,
            "count": 1
           }
          ]
         }
        },
        {
         "name": "specialChars",
         "dtype": "int64",
         "stats": {
          "unique_count": 5,
          "nan_count": 0,
          "min": "14",
          "max": "86530",
          "histogram": [
           {
            "bin_start": 14,
            "bin_end": 8665.6,
            "count": 2
           },
           {
            "bin_start": 8665.6,
            "bin_end": 17317.2,
            "count": 1
           },
           {
            "bin_start": 17317.2,
            "bin_end": 25968.800000000003,
            "count": 1
           },
           {
            "bin_start": 25968.800000000003,
            "bin_end": 34620.4,
            "count": 0
           },
           {
            "bin_start": 34620.4,
            "bin_end": 43272,
            "count": 0
           },
           {
            "bin_start": 43272,
            "bin_end": 51923.600000000006,
            "count": 0
           },
           {
            "bin_start": 51923.600000000006,
            "bin_end": 60575.200000000004,
            "count": 0
           },
           {
            "bin_start": 60575.200000000004,
            "bin_end": 69226.8,
            "count": 0
           },
           {
            "bin_start": 69226.8,
            "bin_end": 77878.40000000001,
            "count": 0
           },
           {
            "bin_start": 77878.40000000001,
            "bin_end": 86530,
            "count": 1
           }
          ]
         }
        },
        {
         "name": "scriptLength",
         "dtype": "int64",
         "stats": {
          "unique_count": 5,
          "nan_count": 0,
          "min": "0",
          "max": "331704",
          "histogram": [
           {
            "bin_start": 0,
            "bin_end": 33170.4,
            "count": 4
           },
           {
            "bin_start": 33170.4,
            "bin_end": 66340.8,
            "count": 0
           },
           {
            "bin_start": 66340.8,
            "bin_end": 99511.20000000001,
            "count": 0
           },
           {
            "bin_start": 99511.20000000001,
            "bin_end": 132681.6,
            "count": 0
           },
           {
            "bin_start": 132681.6,
            "bin_end": 165852,
            "count": 0
           },
           {
            "bin_start": 165852,
            "bin_end": 199022.40000000002,
            "count": 0
           },
           {
            "bin_start": 199022.40000000002,
            "bin_end": 232192.80000000002,
            "count": 0
           },
           {
            "bin_start": 232192.80000000002,
            "bin_end": 265363.2,
            "count": 0
           },
           {
            "bin_start": 265363.2,
            "bin_end": 298533.60000000003,
            "count": 0
           },
           {
            "bin_start": 298533.60000000003,
            "bin_end": 331704,
            "count": 1
           }
          ]
         }
        },
        {
         "name": "sbr",
         "dtype": "float64",
         "stats": {
          "unique_count": 5,
          "nan_count": 0,
          "min": "0.0",
          "max": "0.985952501263264",
          "histogram": [
           {
            "bin_start": 0,
            "bin_end": 0.09859525012632639,
            "count": 1
           },
           {
            "bin_start": 0.09859525012632639,
            "bin_end": 0.19719050025265278,
            "count": 1
           },
           {
            "bin_start": 0.19719050025265278,
            "bin_end": 0.29578575037897914,
            "count": 1
           },
           {
            "bin_start": 0.29578575037897914,
            "bin_end": 0.39438100050530556,
            "count": 0
           },
           {
            "bin_start": 0.39438100050530556,
            "bin_end": 0.492976250631632,
            "count": 0
           },
           {
            "bin_start": 0.492976250631632,
            "bin_end": 0.5915715007579583,
            "count": 0
           },
           {
            "bin_start": 0.5915715007579583,
            "bin_end": 0.6901667508842847,
            "count": 1
           },
           {
            "bin_start": 0.6901667508842847,
            "bin_end": 0.7887620010106111,
            "count": 0
           },
           {
            "bin_start": 0.7887620010106111,
            "bin_end": 0.8873572511369375,
            "count": 0
           },
           {
            "bin_start": 0.8873572511369375,
            "bin_end": 0.985952501263264,
            "count": 1
           }
          ]
         }
        },
        {
         "name": "bscr",
         "dtype": "float64",
         "stats": {
          "unique_count": 5,
          "nan_count": 0,
          "min": "0.197183098591549",
          "max": "0.300169483761623",
          "histogram": [
           {
            "bin_start": 0.197183098591549,
            "bin_end": 0.2074817371085564,
            "count": 1
           },
           {
            "bin_start": 0.2074817371085564,
            "bin_end": 0.2177803756255638,
            "count": 0
           },
           {
            "bin_start": 0.2177803756255638,
            "bin_end": 0.2280790141425712,
            "count": 0
           },
           {
            "bin_start": 0.2280790141425712,
            "bin_end": 0.2383776526595786,
            "count": 2
           },
           {
            "bin_start": 0.2383776526595786,
            "bin_end": 0.24867629117658602,
            "count": 0
           },
           {
            "bin_start": 0.24867629117658602,
            "bin_end": 0.25897492969359337,
            "count": 1
           },
           {
            "bin_start": 0.25897492969359337,
            "bin_end": 0.2692735682106008,
            "count": 0
           },
           {
            "bin_start": 0.2692735682106008,
            "bin_end": 0.2795722067276082,
            "count": 0
           },
           {
            "bin_start": 0.2795722067276082,
            "bin_end": 0.2898708452446156,
            "count": 0
           },
           {
            "bin_start": 0.2898708452446156,
            "bin_end": 0.300169483761623,
            "count": 1
           }
          ]
         }
        },
        {
         "name": "sscr",
         "dtype": "float64",
         "stats": {
          "unique_count": 5,
          "nan_count": 0,
          "min": "0.0",
          "max": "3.066719056974456",
          "histogram": [
           {
            "bin_start": 0,
            "bin_end": 0.30667190569744557,
            "count": 1
           },
           {
            "bin_start": 0.30667190569744557,
            "bin_end": 0.6133438113948911,
            "count": 0
           },
           {
            "bin_start": 0.6133438113948911,
            "bin_end": 0.9200157170923366,
            "count": 1
           },
           {
            "bin_start": 0.9200157170923366,
            "bin_end": 1.2266876227897823,
            "count": 1
           },
           {
            "bin_start": 1.2266876227897823,
            "bin_end": 1.533359528487228,
            "count": 0
           },
           {
            "bin_start": 1.533359528487228,
            "bin_end": 1.8400314341846733,
            "count": 0
           },
           {
            "bin_start": 1.8400314341846733,
            "bin_end": 2.146703339882119,
            "count": 1
           },
           {
            "bin_start": 2.146703339882119,
            "bin_end": 2.4533752455795645,
            "count": 0
           },
           {
            "bin_start": 2.4533752455795645,
            "bin_end": 2.76004715127701,
            "count": 0
           },
           {
            "bin_start": 2.76004715127701,
            "bin_end": 3.066719056974456,
            "count": 1
           }
          ]
         }
        },
        {
         "name": "target",
         "dtype": "int64",
         "stats": {
          "unique_count": 1,
          "nan_count": 0,
          "min": "0",
          "max": "0",
          "histogram": [
           {
            "bin_start": -0.5,
            "bin_end": -0.4,
            "count": 0
           },
           {
            "bin_start": -0.4,
            "bin_end": -0.3,
            "count": 0
           },
           {
            "bin_start": -0.3,
            "bin_end": -0.19999999999999996,
            "count": 0
           },
           {
            "bin_start": -0.19999999999999996,
            "bin_end": -0.09999999999999998,
            "count": 0
           },
           {
            "bin_start": -0.09999999999999998,
            "bin_end": 0,
            "count": 0
           },
           {
            "bin_start": 0,
            "bin_end": 0.10000000000000009,
            "count": 5
           },
           {
            "bin_start": 0.10000000000000009,
            "bin_end": 0.20000000000000007,
            "count": 0
           },
           {
            "bin_start": 0.20000000000000007,
            "bin_end": 0.30000000000000004,
            "count": 0
           },
           {
            "bin_start": 0.30000000000000004,
            "bin_end": 0.4,
            "count": 0
           },
           {
            "bin_start": 0.4,
            "bin_end": 0.5,
            "count": 0
           }
          ]
         }
        },
        {
         "name": "_deepnote_index_column",
         "dtype": "int64"
        }
       ],
       "rows": [
        {
         "month": "1",
         "ext": "com",
         "urlLength": "98",
         "numDigits": "2",
         "numParams": "0",
         "num_%20": "0",
         "num_@": "0",
         "entropy": "-4.3565722830592",
         "has_ip": "0",
         "hasHttp": "True",
         "hasHttps": "False",
         "urlIsLive": "False",
         "dsr": "5708",
         "dse": "500",
         "bodyLength": "336430",
         "numTitles": "0",
         "numImages": "36",
         "numLinks": "58",
         "specialChars": "86530",
         "scriptLength": "331704",
         "sbr": "0.985952501263264",
         "bscr": "0.257200606366852",
         "sscr": "3.066719056974456",
         "target": "0",
         "_deepnote_index_column": "0"
        },
        {
         "month": "7",
         "ext": "com",
         "urlLength": "121",
         "numDigits": "7",
         "numParams": "0",
         "num_%20": "0",
         "num_@": "0",
         "entropy": "-4.515268136739969",
         "has_ip": "0",
         "hasHttp": "True",
         "hasHttps": "False",
         "urlIsLive": "False",
         "dsr": "8176",
         "dse": "224",
         "bodyLength": "46050",
         "numTitles": "19",
         "numImages": "3",
         "numLinks": "248",
         "specialChars": "10656",
         "scriptLength": "11141",
         "sbr": "0.241932681867535",
         "bscr": "0.231400651465798",
         "sscr": "1.04551426426426",
         "target": "0",
         "_deepnote_index_column": "1"
        },
        {
         "month": "1",
         "ext": "net",
         "urlLength": "101",
         "numDigits": "29",
         "numParams": "0",
         "num_%20": "0",
         "num_@": "0",
         "entropy": "-4.11305358898609",
         "has_ip": "0",
         "hasHttp": "True",
         "hasHttps": "False",
         "urlIsLive": "False",
         "dsr": "2982",
         "dse": "304",
         "bodyLength": "71",
         "numTitles": "1",
         "numImages": "0",
         "numLinks": "0",
         "specialChars": "14",
         "scriptLength": "0",
         "sbr": "0.0",
         "bscr": "0.197183098591549",
         "sscr": "0.0",
         "target": "0",
         "_deepnote_index_column": "2"
        },
        {
         "month": "3",
         "ext": "com",
         "urlLength": "99",
         "numDigits": "11",
         "numParams": "0",
         "num_%20": "0",
         "num_@": "0",
         "entropy": "-4.37366476740797",
         "has_ip": "0",
         "hasHttp": "True",
         "hasHttps": "False",
         "urlIsLive": "False",
         "dsr": "7838",
         "dse": "197",
         "bodyLength": "87682",
         "numTitles": "1",
         "numImages": "0",
         "numLinks": "20",
         "specialChars": "20368",
         "scriptLength": "16184",
         "sbr": "0.18457608174996",
         "bscr": "0.232293971396638",
         "sscr": "0.6356637863315",
         "target": "0",
         "_deepnote_index_column": "3"
        },
        {
         "month": "12",
         "ext": "other",
         "urlLength": "85",
         "numDigits": "19",
         "numParams": "0",
         "num_%20": "0",
         "num_@": "0",
         "entropy": "-4.4584550542656",
         "has_ip": "0",
         "hasHttp": "True",
         "hasHttps": "False",
         "urlIsLive": "False",
         "dsr": "0",
         "dse": "0",
         "bodyLength": "16524",
         "numTitles": "48",
         "numImages": "35",
         "numLinks": "176",
         "specialChars": "6553",
         "scriptLength": "11620",
         "sbr": "0.61921121341212",
         "bscr": "0.300169483761623",
         "sscr": "2.062871967038",
         "target": "0",
         "_deepnote_index_column": "4"
        }
       ]
      },
      "text/plain": "   month    ext  urlLength  numDigits  numParams  num_%20  num_@   entropy  \\\n0      1    com         98          2          0        0      0 -4.356572   \n1      7    com        121          7          0        0      0 -4.515268   \n2      1    net        101         29          0        0      0 -4.113054   \n3      3    com         99         11          0        0      0 -4.373665   \n4     12  other         85         19          0        0      0 -4.458455   \n\n   has_ip  hasHttp  ...  bodyLength  numTitles  numImages  numLinks  \\\n0       0     True  ...      336430          0         36        58   \n1       0     True  ...       46050         19          3       248   \n2       0     True  ...          71          1          0         0   \n3       0     True  ...       87682          1          0        20   \n4       0     True  ...       16524         48         35       176   \n\n   specialChars  scriptLength       sbr      bscr      sscr  target  \n0         86530        331704  0.985953  0.257201  3.066719       0  \n1         10656         11141  0.241933  0.231401  1.045514       0  \n2            14             0  0.000000  0.197183  0.000000       0  \n3         20368         16184  0.184576  0.232294  0.635664       0  \n4          6553         11620  0.619211  0.300169  2.062872       0  \n\n[5 rows x 24 columns]",
      "text/html": "<div>\n<style scoped>\n    .dataframe tbody tr th:only-of-type {\n        vertical-align: middle;\n    }\n\n    .dataframe tbody tr th {\n        vertical-align: top;\n    }\n\n    .dataframe thead th {\n        text-align: right;\n    }\n</style>\n<table border=\"1\" class=\"dataframe\">\n  <thead>\n    <tr style=\"text-align: right;\">\n      <th></th>\n      <th>month</th>\n      <th>ext</th>\n      <th>urlLength</th>\n      <th>numDigits</th>\n      <th>numParams</th>\n      <th>num_%20</th>\n      <th>num_@</th>\n      <th>entropy</th>\n      <th>has_ip</th>\n      <th>hasHttp</th>\n      <th>...</th>\n      <th>bodyLength</th>\n      <th>numTitles</th>\n      <th>numImages</th>\n      <th>numLinks</th>\n      <th>specialChars</th>\n      <th>scriptLength</th>\n      <th>sbr</th>\n      <th>bscr</th>\n      <th>sscr</th>\n      <th>target</th>\n    </tr>\n  </thead>\n  <tbody>\n    <tr>\n      <th>0</th>\n      <td>1</td>\n      <td>com</td>\n      <td>98</td>\n      <td>2</td>\n      <td>0</td>\n      <td>0</td>\n      <td>0</td>\n      <td>-4.356572</td>\n      <td>0</td>\n      <td>True</td>\n      <td>...</td>\n      <td>336430</td>\n      <td>0</td>\n      <td>36</td>\n      <td>58</td>\n      <td>86530</td>\n      <td>331704</td>\n      <td>0.985953</td>\n      <td>0.257201</td>\n      <td>3.066719</td>\n      <td>0</td>\n    </tr>\n    <tr>\n      <th>1</th>\n      <td>7</td>\n      <td>com</td>\n      <td>121</td>\n      <td>7</td>\n      <td>0</td>\n      <td>0</td>\n      <td>0</td>\n      <td>-4.515268</td>\n      <td>0</td>\n      <td>True</td>\n      <td>...</td>\n      <td>46050</td>\n      <td>19</td>\n      <td>3</td>\n      <td>248</td>\n      <td>10656</td>\n      <td>11141</td>\n      <td>0.241933</td>\n      <td>0.231401</td>\n      <td>1.045514</td>\n      <td>0</td>\n    </tr>\n    <tr>\n      <th>2</th>\n      <td>1</td>\n      <td>net</td>\n      <td>101</td>\n      <td>29</td>\n      <td>0</td>\n      <td>0</td>\n      <td>0</td>\n      <td>-4.113054</td>\n      <td>0</td>\n      <td>True</td>\n      <td>...</td>\n      <td>71</td>\n      <td>1</td>\n      <td>0</td>\n      <td>0</td>\n      <td>14</td>\n      <td>0</td>\n      <td>0.000000</td>\n      <td>0.197183</td>\n      <td>0.000000</td>\n      <td>0</td>\n    </tr>\n    <tr>\n      <th>3</th>\n      <td>3</td>\n      <td>com</td>\n      <td>99</td>\n      <td>11</td>\n      <td>0</td>\n      <td>0</td>\n      <td>0</td>\n      <td>-4.373665</td>\n      <td>0</td>\n      <td>True</td>\n      <td>...</td>\n      <td>87682</td>\n      <td>1</td>\n      <td>0</td>\n      <td>20</td>\n      <td>20368</td>\n      <td>16184</td>\n      <td>0.184576</td>\n      <td>0.232294</td>\n      <td>0.635664</td>\n      <td>0</td>\n    </tr>\n    <tr>\n      <th>4</th>\n      <td>12</td>\n      <td>other</td>\n      <td>85</td>\n      <td>19</td>\n      <td>0</td>\n      <td>0</td>\n      <td>0</td>\n      <td>-4.458455</td>\n      <td>0</td>\n      <td>True</td>\n      <td>...</td>\n      <td>16524</td>\n      <td>48</td>\n      <td>35</td>\n      <td>176</td>\n      <td>6553</td>\n      <td>11620</td>\n      <td>0.619211</td>\n      <td>0.300169</td>\n      <td>2.062872</td>\n      <td>0</td>\n    </tr>\n  </tbody>\n</table>\n<p>5 rows × 24 columns</p>\n</div>"
     },
     "metadata": {}
    }
   ],
   "execution_count": null
  },
  {
   "cell_type": "code",
   "metadata": {
    "cell_id": "e0cb171a52d04693b1e1744f5735f225",
    "tags": [],
    "deepnote_to_be_reexecuted": false,
    "source_hash": "f6325a18",
    "execution_start": 1667724545427,
    "execution_millis": 6,
    "deepnote_cell_type": "code",
    "deepnote_cell_height": 390
   },
   "source": "df_test.head()",
   "outputs": [
    {
     "output_type": "execute_result",
     "execution_count": 5,
     "data": {
      "application/vnd.deepnote.dataframe.v3+json": {
       "column_count": 24,
       "row_count": 5,
       "columns": [
        {
         "name": "month",
         "dtype": "int64",
         "stats": {
          "unique_count": 3,
          "nan_count": 0,
          "min": "3",
          "max": "8",
          "histogram": [
           {
            "bin_start": 3,
            "bin_end": 3.5,
            "count": 2
           },
           {
            "bin_start": 3.5,
            "bin_end": 4,
            "count": 0
           },
           {
            "bin_start": 4,
            "bin_end": 4.5,
            "count": 0
           },
           {
            "bin_start": 4.5,
            "bin_end": 5,
            "count": 0
           },
           {
            "bin_start": 5,
            "bin_end": 5.5,
            "count": 0
           },
           {
            "bin_start": 5.5,
            "bin_end": 6,
            "count": 0
           },
           {
            "bin_start": 6,
            "bin_end": 6.5,
            "count": 2
           },
           {
            "bin_start": 6.5,
            "bin_end": 7,
            "count": 0
           },
           {
            "bin_start": 7,
            "bin_end": 7.5,
            "count": 0
           },
           {
            "bin_start": 7.5,
            "bin_end": 8,
            "count": 1
           }
          ]
         }
        },
        {
         "name": "ext",
         "dtype": "object",
         "stats": {
          "unique_count": 3,
          "nan_count": 0,
          "categories": [
           {
            "name": "com",
            "count": 2
           },
           {
            "name": "other",
            "count": 2
           },
           {
            "name": "html",
            "count": 1
           }
          ]
         }
        },
        {
         "name": "urlLength",
         "dtype": "int64",
         "stats": {
          "unique_count": 5,
          "nan_count": 0,
          "min": "90",
          "max": "123",
          "histogram": [
           {
            "bin_start": 90,
            "bin_end": 93.3,
            "count": 1
           },
           {
            "bin_start": 93.3,
            "bin_end": 96.6,
            "count": 1
           },
           {
            "bin_start": 96.6,
            "bin_end": 99.9,
            "count": 0
           },
           {
            "bin_start": 99.9,
            "bin_end": 103.2,
            "count": 1
           },
           {
            "bin_start": 103.2,
            "bin_end": 106.5,
            "count": 0
           },
           {
            "bin_start": 106.5,
            "bin_end": 109.8,
            "count": 0
           },
           {
            "bin_start": 109.8,
            "bin_end": 113.1,
            "count": 0
           },
           {
            "bin_start": 113.1,
            "bin_end": 116.4,
            "count": 1
           },
           {
            "bin_start": 116.4,
            "bin_end": 119.7,
            "count": 0
           },
           {
            "bin_start": 119.7,
            "bin_end": 123,
            "count": 1
           }
          ]
         }
        },
        {
         "name": "numDigits",
         "dtype": "int64",
         "stats": {
          "unique_count": 5,
          "nan_count": 0,
          "min": "2",
          "max": "10",
          "histogram": [
           {
            "bin_start": 2,
            "bin_end": 2.8,
            "count": 1
           },
           {
            "bin_start": 2.8,
            "bin_end": 3.6,
            "count": 1
           },
           {
            "bin_start": 3.6,
            "bin_end": 4.4,
            "count": 0
           },
           {
            "bin_start": 4.4,
            "bin_end": 5.2,
            "count": 0
           },
           {
            "bin_start": 5.2,
            "bin_end": 6,
            "count": 0
           },
           {
            "bin_start": 6,
            "bin_end": 6.800000000000001,
            "count": 0
           },
           {
            "bin_start": 6.800000000000001,
            "bin_end": 7.6000000000000005,
            "count": 1
           },
           {
            "bin_start": 7.6000000000000005,
            "bin_end": 8.4,
            "count": 1
           },
           {
            "bin_start": 8.4,
            "bin_end": 9.2,
            "count": 0
           },
           {
            "bin_start": 9.2,
            "bin_end": 10,
            "count": 1
           }
          ]
         }
        },
        {
         "name": "numParams",
         "dtype": "int64",
         "stats": {
          "unique_count": 1,
          "nan_count": 0,
          "min": "0",
          "max": "0",
          "histogram": [
           {
            "bin_start": -0.5,
            "bin_end": -0.4,
            "count": 0
           },
           {
            "bin_start": -0.4,
            "bin_end": -0.3,
            "count": 0
           },
           {
            "bin_start": -0.3,
            "bin_end": -0.19999999999999996,
            "count": 0
           },
           {
            "bin_start": -0.19999999999999996,
            "bin_end": -0.09999999999999998,
            "count": 0
           },
           {
            "bin_start": -0.09999999999999998,
            "bin_end": 0,
            "count": 0
           },
           {
            "bin_start": 0,
            "bin_end": 0.10000000000000009,
            "count": 5
           },
           {
            "bin_start": 0.10000000000000009,
            "bin_end": 0.20000000000000007,
            "count": 0
           },
           {
            "bin_start": 0.20000000000000007,
            "bin_end": 0.30000000000000004,
            "count": 0
           },
           {
            "bin_start": 0.30000000000000004,
            "bin_end": 0.4,
            "count": 0
           },
           {
            "bin_start": 0.4,
            "bin_end": 0.5,
            "count": 0
           }
          ]
         }
        },
        {
         "name": "num_%20",
         "dtype": "int64",
         "stats": {
          "unique_count": 1,
          "nan_count": 0,
          "min": "0",
          "max": "0",
          "histogram": [
           {
            "bin_start": -0.5,
            "bin_end": -0.4,
            "count": 0
           },
           {
            "bin_start": -0.4,
            "bin_end": -0.3,
            "count": 0
           },
           {
            "bin_start": -0.3,
            "bin_end": -0.19999999999999996,
            "count": 0
           },
           {
            "bin_start": -0.19999999999999996,
            "bin_end": -0.09999999999999998,
            "count": 0
           },
           {
            "bin_start": -0.09999999999999998,
            "bin_end": 0,
            "count": 0
           },
           {
            "bin_start": 0,
            "bin_end": 0.10000000000000009,
            "count": 5
           },
           {
            "bin_start": 0.10000000000000009,
            "bin_end": 0.20000000000000007,
            "count": 0
           },
           {
            "bin_start": 0.20000000000000007,
            "bin_end": 0.30000000000000004,
            "count": 0
           },
           {
            "bin_start": 0.30000000000000004,
            "bin_end": 0.4,
            "count": 0
           },
           {
            "bin_start": 0.4,
            "bin_end": 0.5,
            "count": 0
           }
          ]
         }
        },
        {
         "name": "num_@",
         "dtype": "int64",
         "stats": {
          "unique_count": 1,
          "nan_count": 0,
          "min": "0",
          "max": "0",
          "histogram": [
           {
            "bin_start": -0.5,
            "bin_end": -0.4,
            "count": 0
           },
           {
            "bin_start": -0.4,
            "bin_end": -0.3,
            "count": 0
           },
           {
            "bin_start": -0.3,
            "bin_end": -0.19999999999999996,
            "count": 0
           },
           {
            "bin_start": -0.19999999999999996,
            "bin_end": -0.09999999999999998,
            "count": 0
           },
           {
            "bin_start": -0.09999999999999998,
            "bin_end": 0,
            "count": 0
           },
           {
            "bin_start": 0,
            "bin_end": 0.10000000000000009,
            "count": 5
           },
           {
            "bin_start": 0.10000000000000009,
            "bin_end": 0.20000000000000007,
            "count": 0
           },
           {
            "bin_start": 0.20000000000000007,
            "bin_end": 0.30000000000000004,
            "count": 0
           },
           {
            "bin_start": 0.30000000000000004,
            "bin_end": 0.4,
            "count": 0
           },
           {
            "bin_start": 0.4,
            "bin_end": 0.5,
            "count": 0
           }
          ]
         }
        },
        {
         "name": "entropy",
         "dtype": "float64",
         "stats": {
          "unique_count": 5,
          "nan_count": 0,
          "min": "-4.56646832133577",
          "max": "-4.14827788248936",
          "histogram": [
           {
            "bin_start": -4.56646832133577,
            "bin_end": -4.524649277451129,
            "count": 1
           },
           {
            "bin_start": -4.524649277451129,
            "bin_end": -4.482830233566488,
            "count": 1
           },
           {
            "bin_start": -4.482830233566488,
            "bin_end": -4.441011189681847,
            "count": 0
           },
           {
            "bin_start": -4.441011189681847,
            "bin_end": -4.399192145797206,
            "count": 0
           },
           {
            "bin_start": -4.399192145797206,
            "bin_end": -4.3573731019125646,
            "count": 1
           },
           {
            "bin_start": -4.3573731019125646,
            "bin_end": -4.315554058027924,
            "count": 1
           },
           {
            "bin_start": -4.315554058027924,
            "bin_end": -4.273735014143283,
            "count": 0
           },
           {
            "bin_start": -4.273735014143283,
            "bin_end": -4.231915970258642,
            "count": 0
           },
           {
            "bin_start": -4.231915970258642,
            "bin_end": -4.190096926374001,
            "count": 0
           },
           {
            "bin_start": -4.190096926374001,
            "bin_end": -4.14827788248936,
            "count": 1
           }
          ]
         }
        },
        {
         "name": "has_ip",
         "dtype": "int64",
         "stats": {
          "unique_count": 1,
          "nan_count": 0,
          "min": "0",
          "max": "0",
          "histogram": [
           {
            "bin_start": -0.5,
            "bin_end": -0.4,
            "count": 0
           },
           {
            "bin_start": -0.4,
            "bin_end": -0.3,
            "count": 0
           },
           {
            "bin_start": -0.3,
            "bin_end": -0.19999999999999996,
            "count": 0
           },
           {
            "bin_start": -0.19999999999999996,
            "bin_end": -0.09999999999999998,
            "count": 0
           },
           {
            "bin_start": -0.09999999999999998,
            "bin_end": 0,
            "count": 0
           },
           {
            "bin_start": 0,
            "bin_end": 0.10000000000000009,
            "count": 5
           },
           {
            "bin_start": 0.10000000000000009,
            "bin_end": 0.20000000000000007,
            "count": 0
           },
           {
            "bin_start": 0.20000000000000007,
            "bin_end": 0.30000000000000004,
            "count": 0
           },
           {
            "bin_start": 0.30000000000000004,
            "bin_end": 0.4,
            "count": 0
           },
           {
            "bin_start": 0.4,
            "bin_end": 0.5,
            "count": 0
           }
          ]
         }
        },
        {
         "name": "hasHttp",
         "dtype": "bool",
         "stats": {
          "unique_count": 2,
          "nan_count": 0,
          "categories": [
           {
            "name": "True",
            "count": 4
           },
           {
            "name": "False",
            "count": 1
           }
          ]
         }
        },
        {
         "name": "hasHttps",
         "dtype": "bool",
         "stats": {
          "unique_count": 2,
          "nan_count": 0,
          "categories": [
           {
            "name": "False",
            "count": 4
           },
           {
            "name": "True",
            "count": 1
           }
          ]
         }
        },
        {
         "name": "urlIsLive",
         "dtype": "bool",
         "stats": {
          "unique_count": 1,
          "nan_count": 0,
          "categories": [
           {
            "name": "False",
            "count": 5
           }
          ]
         }
        },
        {
         "name": "dsr",
         "dtype": "int64",
         "stats": {
          "unique_count": 5,
          "nan_count": 0,
          "min": "0",
          "max": "6539",
          "histogram": [
           {
            "bin_start": 0,
            "bin_end": 653.9,
            "count": 2
           },
           {
            "bin_start": 653.9,
            "bin_end": 1307.8,
            "count": 0
           },
           {
            "bin_start": 1307.8,
            "bin_end": 1961.6999999999998,
            "count": 0
           },
           {
            "bin_start": 1961.6999999999998,
            "bin_end": 2615.6,
            "count": 0
           },
           {
            "bin_start": 2615.6,
            "bin_end": 3269.5,
            "count": 0
           },
           {
            "bin_start": 3269.5,
            "bin_end": 3923.3999999999996,
            "count": 0
           },
           {
            "bin_start": 3923.3999999999996,
            "bin_end": 4577.3,
            "count": 0
           },
           {
            "bin_start": 4577.3,
            "bin_end": 5231.2,
            "count": 0
           },
           {
            "bin_start": 5231.2,
            "bin_end": 5885.099999999999,
            "count": 0
           },
           {
            "bin_start": 5885.099999999999,
            "bin_end": 6539,
            "count": 3
           }
          ]
         }
        },
        {
         "name": "dse",
         "dtype": "int64",
         "stats": {
          "unique_count": 5,
          "nan_count": 0,
          "min": "0",
          "max": "2957",
          "histogram": [
           {
            "bin_start": 0,
            "bin_end": 295.7,
            "count": 3
           },
           {
            "bin_start": 295.7,
            "bin_end": 591.4,
            "count": 1
           },
           {
            "bin_start": 591.4,
            "bin_end": 887.0999999999999,
            "count": 0
           },
           {
            "bin_start": 887.0999999999999,
            "bin_end": 1182.8,
            "count": 0
           },
           {
            "bin_start": 1182.8,
            "bin_end": 1478.5,
            "count": 0
           },
           {
            "bin_start": 1478.5,
            "bin_end": 1774.1999999999998,
            "count": 0
           },
           {
            "bin_start": 1774.1999999999998,
            "bin_end": 2069.9,
            "count": 0
           },
           {
            "bin_start": 2069.9,
            "bin_end": 2365.6,
            "count": 0
           },
           {
            "bin_start": 2365.6,
            "bin_end": 2661.2999999999997,
            "count": 0
           },
           {
            "bin_start": 2661.2999999999997,
            "bin_end": 2957,
            "count": 1
           }
          ]
         }
        },
        {
         "name": "bodyLength",
         "dtype": "int64",
         "stats": {
          "unique_count": 5,
          "nan_count": 0,
          "min": "0",
          "max": "32897",
          "histogram": [
           {
            "bin_start": 0,
            "bin_end": 3289.7,
            "count": 4
           },
           {
            "bin_start": 3289.7,
            "bin_end": 6579.4,
            "count": 0
           },
           {
            "bin_start": 6579.4,
            "bin_end": 9869.099999999999,
            "count": 0
           },
           {
            "bin_start": 9869.099999999999,
            "bin_end": 13158.8,
            "count": 0
           },
           {
            "bin_start": 13158.8,
            "bin_end": 16448.5,
            "count": 0
           },
           {
            "bin_start": 16448.5,
            "bin_end": 19738.199999999997,
            "count": 0
           },
           {
            "bin_start": 19738.199999999997,
            "bin_end": 23027.899999999998,
            "count": 0
           },
           {
            "bin_start": 23027.899999999998,
            "bin_end": 26317.6,
            "count": 0
           },
           {
            "bin_start": 26317.6,
            "bin_end": 29607.3,
            "count": 0
           },
           {
            "bin_start": 29607.3,
            "bin_end": 32897,
            "count": 1
           }
          ]
         }
        },
        {
         "name": "numTitles",
         "dtype": "int64",
         "stats": {
          "unique_count": 4,
          "nan_count": 0,
          "min": "0",
          "max": "12",
          "histogram": [
           {
            "bin_start": 0,
            "bin_end": 1.2,
            "count": 3
           },
           {
            "bin_start": 1.2,
            "bin_end": 2.4,
            "count": 1
           },
           {
            "bin_start": 2.4,
            "bin_end": 3.5999999999999996,
            "count": 0
           },
           {
            "bin_start": 3.5999999999999996,
            "bin_end": 4.8,
            "count": 0
           },
           {
            "bin_start": 4.8,
            "bin_end": 6,
            "count": 0
           },
           {
            "bin_start": 6,
            "bin_end": 7.199999999999999,
            "count": 0
           },
           {
            "bin_start": 7.199999999999999,
            "bin_end": 8.4,
            "count": 0
           },
           {
            "bin_start": 8.4,
            "bin_end": 9.6,
            "count": 0
           },
           {
            "bin_start": 9.6,
            "bin_end": 10.799999999999999,
            "count": 0
           },
           {
            "bin_start": 10.799999999999999,
            "bin_end": 12,
            "count": 1
           }
          ]
         }
        },
        {
         "name": "numImages",
         "dtype": "int64",
         "stats": {
          "unique_count": 2,
          "nan_count": 0,
          "min": "0",
          "max": "43",
          "histogram": [
           {
            "bin_start": 0,
            "bin_end": 4.3,
            "count": 4
           },
           {
            "bin_start": 4.3,
            "bin_end": 8.6,
            "count": 0
           },
           {
            "bin_start": 8.6,
            "bin_end": 12.899999999999999,
            "count": 0
           },
           {
            "bin_start": 12.899999999999999,
            "bin_end": 17.2,
            "count": 0
           },
           {
            "bin_start": 17.2,
            "bin_end": 21.5,
            "count": 0
           },
           {
            "bin_start": 21.5,
            "bin_end": 25.799999999999997,
            "count": 0
           },
           {
            "bin_start": 25.799999999999997,
            "bin_end": 30.099999999999998,
            "count": 0
           },
           {
            "bin_start": 30.099999999999998,
            "bin_end": 34.4,
            "count": 0
           },
           {
            "bin_start": 34.4,
            "bin_end": 38.699999999999996,
            "count": 0
           },
           {
            "bin_start": 38.699999999999996,
            "bin_end": 43,
            "count": 1
           }
          ]
         }
        },
        {
         "name": "numLinks",
         "dtype": "int64",
         "stats": {
          "unique_count": 3,
          "nan_count": 0,
          "min": "0",
          "max": "200",
          "histogram": [
           {
            "bin_start": 0,
            "bin_end": 20,
            "count": 4
           },
           {
            "bin_start": 20,
            "bin_end": 40,
            "count": 0
           },
           {
            "bin_start": 40,
            "bin_end": 60,
            "count": 0
           },
           {
            "bin_start": 60,
            "bin_end": 80,
            "count": 0
           },
           {
            "bin_start": 80,
            "bin_end": 100,
            "count": 0
           },
           {
            "bin_start": 100,
            "bin_end": 120,
            "count": 0
           },
           {
            "bin_start": 120,
            "bin_end": 140,
            "count": 0
           },
           {
            "bin_start": 140,
            "bin_end": 160,
            "count": 0
           },
           {
            "bin_start": 160,
            "bin_end": 180,
            "count": 0
           },
           {
            "bin_start": 180,
            "bin_end": 200,
            "count": 1
           }
          ]
         }
        },
        {
         "name": "specialChars",
         "dtype": "int64",
         "stats": {
          "unique_count": 5,
          "nan_count": 0,
          "min": "0",
          "max": "8872",
          "histogram": [
           {
            "bin_start": 0,
            "bin_end": 887.2,
            "count": 4
           },
           {
            "bin_start": 887.2,
            "bin_end": 1774.4,
            "count": 0
           },
           {
            "bin_start": 1774.4,
            "bin_end": 2661.6000000000004,
            "count": 0
           },
           {
            "bin_start": 2661.6000000000004,
            "bin_end": 3548.8,
            "count": 0
           },
           {
            "bin_start": 3548.8,
            "bin_end": 4436,
            "count": 0
           },
           {
            "bin_start": 4436,
            "bin_end": 5323.200000000001,
            "count": 0
           },
           {
            "bin_start": 5323.200000000001,
            "bin_end": 6210.400000000001,
            "count": 0
           },
           {
            "bin_start": 6210.400000000001,
            "bin_end": 7097.6,
            "count": 0
           },
           {
            "bin_start": 7097.6,
            "bin_end": 7984.8,
            "count": 0
           },
           {
            "bin_start": 7984.8,
            "bin_end": 8872,
            "count": 1
           }
          ]
         }
        },
        {
         "name": "scriptLength",
         "dtype": "int64",
         "stats": {
          "unique_count": 3,
          "nan_count": 0,
          "min": "0",
          "max": "19447",
          "histogram": [
           {
            "bin_start": 0,
            "bin_end": 1944.7,
            "count": 4
           },
           {
            "bin_start": 1944.7,
            "bin_end": 3889.4,
            "count": 0
           },
           {
            "bin_start": 3889.4,
            "bin_end": 5834.1,
            "count": 0
           },
           {
            "bin_start": 5834.1,
            "bin_end": 7778.8,
            "count": 0
           },
           {
            "bin_start": 7778.8,
            "bin_end": 9723.5,
            "count": 0
           },
           {
            "bin_start": 9723.5,
            "bin_end": 11668.2,
            "count": 0
           },
           {
            "bin_start": 11668.2,
            "bin_end": 13612.9,
            "count": 0
           },
           {
            "bin_start": 13612.9,
            "bin_end": 15557.6,
            "count": 0
           },
           {
            "bin_start": 15557.6,
            "bin_end": 17502.3,
            "count": 0
           },
           {
            "bin_start": 17502.3,
            "bin_end": 19447,
            "count": 1
           }
          ]
         }
        },
        {
         "name": "sbr",
         "dtype": "float64",
         "stats": {
          "unique_count": 3,
          "nan_count": 0,
          "min": "0.0",
          "max": "0.902785673678226",
          "histogram": [
           {
            "bin_start": 0,
            "bin_end": 0.09027856736782261,
            "count": 3
           },
           {
            "bin_start": 0.09027856736782261,
            "bin_end": 0.18055713473564522,
            "count": 0
           },
           {
            "bin_start": 0.18055713473564522,
            "bin_end": 0.27083570210346786,
            "count": 0
           },
           {
            "bin_start": 0.27083570210346786,
            "bin_end": 0.36111426947129044,
            "count": 0
           },
           {
            "bin_start": 0.36111426947129044,
            "bin_end": 0.451392836839113,
            "count": 0
           },
           {
            "bin_start": 0.451392836839113,
            "bin_end": 0.5416714042069357,
            "count": 0
           },
           {
            "bin_start": 0.5416714042069357,
            "bin_end": 0.6319499715747583,
            "count": 1
           },
           {
            "bin_start": 0.6319499715747583,
            "bin_end": 0.7222285389425809,
            "count": 0
           },
           {
            "bin_start": 0.7222285389425809,
            "bin_end": 0.8125071063104035,
            "count": 0
           },
           {
            "bin_start": 0.8125071063104035,
            "bin_end": 0.902785673678226,
            "count": 1
           }
          ]
         }
        },
        {
         "name": "bscr",
         "dtype": "float64",
         "stats": {
          "unique_count": 5,
          "nan_count": 0,
          "min": "0.0",
          "max": "0.328595793064241",
          "histogram": [
           {
            "bin_start": 0,
            "bin_end": 0.0328595793064241,
            "count": 1
           },
           {
            "bin_start": 0.0328595793064241,
            "bin_end": 0.0657191586128482,
            "count": 0
           },
           {
            "bin_start": 0.0657191586128482,
            "bin_end": 0.0985787379192723,
            "count": 0
           },
           {
            "bin_start": 0.0985787379192723,
            "bin_end": 0.1314383172256964,
            "count": 0
           },
           {
            "bin_start": 0.1314383172256964,
            "bin_end": 0.1642978965321205,
            "count": 1
           },
           {
            "bin_start": 0.1642978965321205,
            "bin_end": 0.1971574758385446,
            "count": 1
           },
           {
            "bin_start": 0.1971574758385446,
            "bin_end": 0.2300170551449687,
            "count": 0
           },
           {
            "bin_start": 0.2300170551449687,
            "bin_end": 0.2628766344513928,
            "count": 0
           },
           {
            "bin_start": 0.2628766344513928,
            "bin_end": 0.2957362137578169,
            "count": 1
           },
           {
            "bin_start": 0.2957362137578169,
            "bin_end": 0.328595793064241,
            "count": 1
           }
          ]
         }
        },
        {
         "name": "sscr",
         "dtype": "float64",
         "stats": {
          "unique_count": 3,
          "nan_count": 0,
          "min": "0.0",
          "max": "2.197923875432528",
          "histogram": [
           {
            "bin_start": 0,
            "bin_end": 0.2197923875432528,
            "count": 3
           },
           {
            "bin_start": 0.2197923875432528,
            "bin_end": 0.4395847750865056,
            "count": 0
           },
           {
            "bin_start": 0.4395847750865056,
            "bin_end": 0.6593771626297584,
            "count": 0
           },
           {
            "bin_start": 0.6593771626297584,
            "bin_end": 0.8791695501730112,
            "count": 0
           },
           {
            "bin_start": 0.8791695501730112,
            "bin_end": 1.098961937716264,
            "count": 0
           },
           {
            "bin_start": 1.098961937716264,
            "bin_end": 1.3187543252595169,
            "count": 0
           },
           {
            "bin_start": 1.3187543252595169,
            "bin_end": 1.5385467128027697,
            "count": 0
           },
           {
            "bin_start": 1.5385467128027697,
            "bin_end": 1.7583391003460225,
            "count": 1
           },
           {
            "bin_start": 1.7583391003460225,
            "bin_end": 1.9781314878892753,
            "count": 0
           },
           {
            "bin_start": 1.9781314878892753,
            "bin_end": 2.197923875432528,
            "count": 1
           }
          ]
         }
        },
        {
         "name": "target",
         "dtype": "int64",
         "stats": {
          "unique_count": 1,
          "nan_count": 0,
          "min": "0",
          "max": "0",
          "histogram": [
           {
            "bin_start": -0.5,
            "bin_end": -0.4,
            "count": 0
           },
           {
            "bin_start": -0.4,
            "bin_end": -0.3,
            "count": 0
           },
           {
            "bin_start": -0.3,
            "bin_end": -0.19999999999999996,
            "count": 0
           },
           {
            "bin_start": -0.19999999999999996,
            "bin_end": -0.09999999999999998,
            "count": 0
           },
           {
            "bin_start": -0.09999999999999998,
            "bin_end": 0,
            "count": 0
           },
           {
            "bin_start": 0,
            "bin_end": 0.10000000000000009,
            "count": 5
           },
           {
            "bin_start": 0.10000000000000009,
            "bin_end": 0.20000000000000007,
            "count": 0
           },
           {
            "bin_start": 0.20000000000000007,
            "bin_end": 0.30000000000000004,
            "count": 0
           },
           {
            "bin_start": 0.30000000000000004,
            "bin_end": 0.4,
            "count": 0
           },
           {
            "bin_start": 0.4,
            "bin_end": 0.5,
            "count": 0
           }
          ]
         }
        },
        {
         "name": "_deepnote_index_column",
         "dtype": "int64"
        }
       ],
       "rows": [
        {
         "month": "3",
         "ext": "com",
         "urlLength": "100",
         "numDigits": "10",
         "numParams": "0",
         "num_%20": "0",
         "num_@": "0",
         "entropy": "-4.56646832133577",
         "has_ip": "0",
         "hasHttp": "True",
         "hasHttps": "False",
         "urlIsLive": "False",
         "dsr": "6107",
         "dse": "466",
         "bodyLength": "32897",
         "numTitles": "12",
         "numImages": "43",
         "numLinks": "200",
         "specialChars": "8872",
         "scriptLength": "19447",
         "sbr": "0.591148129008724",
         "bscr": "0.269690245311123",
         "sscr": "1.753561767357984",
         "target": "0",
         "_deepnote_index_column": "0"
        },
        {
         "month": "6",
         "ext": "other",
         "urlLength": "116",
         "numDigits": "3",
         "numParams": "0",
         "num_%20": "0",
         "num_@": "0",
         "entropy": "-4.49469607965773",
         "has_ip": "0",
         "hasHttp": "False",
         "hasHttps": "True",
         "urlIsLive": "False",
         "dsr": "6539",
         "dse": "2957",
         "bodyLength": "293",
         "numTitles": "1",
         "numImages": "0",
         "numLinks": "0",
         "specialChars": "45",
         "scriptLength": "0",
         "sbr": "0.0",
         "bscr": "0.15358361774744",
         "sscr": "0.0",
         "target": "0",
         "_deepnote_index_column": "1"
        },
        {
         "month": "3",
         "ext": "html",
         "urlLength": "90",
         "numDigits": "7",
         "numParams": "0",
         "num_%20": "0",
         "num_@": "0",
         "entropy": "-4.14827788248936",
         "has_ip": "0",
         "hasHttp": "True",
         "hasHttps": "False",
         "urlIsLive": "False",
         "dsr": "273",
         "dse": "91",
         "bodyLength": "1759",
         "numTitles": "0",
         "numImages": "0",
         "numLinks": "1",
         "specialChars": "578",
         "scriptLength": "1588",
         "sbr": "0.902785673678226",
         "bscr": "0.328595793064241",
         "sscr": "2.197923875432528",
         "target": "0",
         "_deepnote_index_column": "2"
        },
        {
         "month": "8",
         "ext": "other",
         "urlLength": "95",
         "numDigits": "8",
         "numParams": "0",
         "num_%20": "0",
         "num_@": "0",
         "entropy": "-4.39721646146699",
         "has_ip": "0",
         "hasHttp": "True",
         "hasHttps": "False",
         "urlIsLive": "False",
         "dsr": "0",
         "dse": "0",
         "bodyLength": "169",
         "numTitles": "2",
         "numImages": "0",
         "numLinks": "0",
         "specialChars": "29",
         "scriptLength": "0",
         "sbr": "0.0",
         "bscr": "0.171597633136095",
         "sscr": "0.0",
         "target": "0",
         "_deepnote_index_column": "3"
        },
        {
         "month": "6",
         "ext": "com",
         "urlLength": "123",
         "numDigits": "2",
         "numParams": "0",
         "num_%20": "0",
         "num_@": "0",
         "entropy": "-4.33438429596248",
         "has_ip": "0",
         "hasHttp": "True",
         "hasHttps": "False",
         "urlIsLive": "False",
         "dsr": "6176",
         "dse": "32",
         "bodyLength": "0",
         "numTitles": "0",
         "numImages": "0",
         "numLinks": "0",
         "specialChars": "0",
         "scriptLength": "0",
         "sbr": "0.0",
         "bscr": "0.0",
         "sscr": "0.0",
         "target": "0",
         "_deepnote_index_column": "4"
        }
       ]
      },
      "text/plain": "   month    ext  urlLength  numDigits  numParams  num_%20  num_@   entropy  \\\n0      3    com        100         10          0        0      0 -4.566468   \n1      6  other        116          3          0        0      0 -4.494696   \n2      3   html         90          7          0        0      0 -4.148278   \n3      8  other         95          8          0        0      0 -4.397216   \n4      6    com        123          2          0        0      0 -4.334384   \n\n   has_ip  hasHttp  ...  bodyLength  numTitles  numImages  numLinks  \\\n0       0     True  ...       32897         12         43       200   \n1       0    False  ...         293          1          0         0   \n2       0     True  ...        1759          0          0         1   \n3       0     True  ...         169          2          0         0   \n4       0     True  ...           0          0          0         0   \n\n   specialChars  scriptLength       sbr      bscr      sscr  target  \n0          8872         19447  0.591148  0.269690  1.753562       0  \n1            45             0  0.000000  0.153584  0.000000       0  \n2           578          1588  0.902786  0.328596  2.197924       0  \n3            29             0  0.000000  0.171598  0.000000       0  \n4             0             0  0.000000  0.000000  0.000000       0  \n\n[5 rows x 24 columns]",
      "text/html": "<div>\n<style scoped>\n    .dataframe tbody tr th:only-of-type {\n        vertical-align: middle;\n    }\n\n    .dataframe tbody tr th {\n        vertical-align: top;\n    }\n\n    .dataframe thead th {\n        text-align: right;\n    }\n</style>\n<table border=\"1\" class=\"dataframe\">\n  <thead>\n    <tr style=\"text-align: right;\">\n      <th></th>\n      <th>month</th>\n      <th>ext</th>\n      <th>urlLength</th>\n      <th>numDigits</th>\n      <th>numParams</th>\n      <th>num_%20</th>\n      <th>num_@</th>\n      <th>entropy</th>\n      <th>has_ip</th>\n      <th>hasHttp</th>\n      <th>...</th>\n      <th>bodyLength</th>\n      <th>numTitles</th>\n      <th>numImages</th>\n      <th>numLinks</th>\n      <th>specialChars</th>\n      <th>scriptLength</th>\n      <th>sbr</th>\n      <th>bscr</th>\n      <th>sscr</th>\n      <th>target</th>\n    </tr>\n  </thead>\n  <tbody>\n    <tr>\n      <th>0</th>\n      <td>3</td>\n      <td>com</td>\n      <td>100</td>\n      <td>10</td>\n      <td>0</td>\n      <td>0</td>\n      <td>0</td>\n      <td>-4.566468</td>\n      <td>0</td>\n      <td>True</td>\n      <td>...</td>\n      <td>32897</td>\n      <td>12</td>\n      <td>43</td>\n      <td>200</td>\n      <td>8872</td>\n      <td>19447</td>\n      <td>0.591148</td>\n      <td>0.269690</td>\n      <td>1.753562</td>\n      <td>0</td>\n    </tr>\n    <tr>\n      <th>1</th>\n      <td>6</td>\n      <td>other</td>\n      <td>116</td>\n      <td>3</td>\n      <td>0</td>\n      <td>0</td>\n      <td>0</td>\n      <td>-4.494696</td>\n      <td>0</td>\n      <td>False</td>\n      <td>...</td>\n      <td>293</td>\n      <td>1</td>\n      <td>0</td>\n      <td>0</td>\n      <td>45</td>\n      <td>0</td>\n      <td>0.000000</td>\n      <td>0.153584</td>\n      <td>0.000000</td>\n      <td>0</td>\n    </tr>\n    <tr>\n      <th>2</th>\n      <td>3</td>\n      <td>html</td>\n      <td>90</td>\n      <td>7</td>\n      <td>0</td>\n      <td>0</td>\n      <td>0</td>\n      <td>-4.148278</td>\n      <td>0</td>\n      <td>True</td>\n      <td>...</td>\n      <td>1759</td>\n      <td>0</td>\n      <td>0</td>\n      <td>1</td>\n      <td>578</td>\n      <td>1588</td>\n      <td>0.902786</td>\n      <td>0.328596</td>\n      <td>2.197924</td>\n      <td>0</td>\n    </tr>\n    <tr>\n      <th>3</th>\n      <td>8</td>\n      <td>other</td>\n      <td>95</td>\n      <td>8</td>\n      <td>0</td>\n      <td>0</td>\n      <td>0</td>\n      <td>-4.397216</td>\n      <td>0</td>\n      <td>True</td>\n      <td>...</td>\n      <td>169</td>\n      <td>2</td>\n      <td>0</td>\n      <td>0</td>\n      <td>29</td>\n      <td>0</td>\n      <td>0.000000</td>\n      <td>0.171598</td>\n      <td>0.000000</td>\n      <td>0</td>\n    </tr>\n    <tr>\n      <th>4</th>\n      <td>6</td>\n      <td>com</td>\n      <td>123</td>\n      <td>2</td>\n      <td>0</td>\n      <td>0</td>\n      <td>0</td>\n      <td>-4.334384</td>\n      <td>0</td>\n      <td>True</td>\n      <td>...</td>\n      <td>0</td>\n      <td>0</td>\n      <td>0</td>\n      <td>0</td>\n      <td>0</td>\n      <td>0</td>\n      <td>0.000000</td>\n      <td>0.000000</td>\n      <td>0.000000</td>\n      <td>0</td>\n    </tr>\n  </tbody>\n</table>\n<p>5 rows × 24 columns</p>\n</div>"
     },
     "metadata": {}
    }
   ],
   "execution_count": null
  },
  {
   "cell_type": "code",
   "source": "X_train, y_train = df_train.drop(columns=[\"target\"]), df_train[\"target\"]\nX_test, y_test = df_test.drop(columns=[\"target\"]), df_test[\"target\"]",
   "metadata": {
    "cell_id": "6d88e227b5ba42c285a1126a9b38cf56",
    "tags": [],
    "deepnote_to_be_reexecuted": false,
    "source_hash": "38ed1e76",
    "execution_start": 1667724848229,
    "execution_millis": 1,
    "deepnote_cell_type": "code",
    "deepnote_cell_height": 94
   },
   "outputs": [],
   "execution_count": null
  },
  {
   "cell_type": "markdown",
   "source": "## Define Pipeline",
   "metadata": {
    "cell_id": "5c77572c51be414ba1784abf2f29b3df",
    "tags": [],
    "deepnote_cell_type": "markdown",
    "deepnote_cell_height": 70
   }
  },
  {
   "cell_type": "code",
   "source": "model = Pipeline(\n    [\n        (\n            \"transformer\", ColumnTransformer(\n                [(\"encoder\", OneHotEncoder(), [\"ext\"])],\n                remainder=\"passthrough\"\n            )\n        ),\n        (\"scaler\", StandardScaler()),\n        (\"classifier\", LogisticRegression())\n    ]\n)",
   "metadata": {
    "cell_id": "e64cae64f2a548c1a6b7c53580b6a25e",
    "tags": [],
    "deepnote_to_be_reexecuted": false,
    "source_hash": "e578c3d2",
    "execution_start": 1667725081495,
    "execution_millis": 1,
    "deepnote_cell_type": "code",
    "deepnote_cell_height": 274
   },
   "outputs": [],
   "execution_count": null
  },
  {
   "cell_type": "code",
   "source": "model",
   "metadata": {
    "cell_id": "e166960150744e3094ccfecfd45b4fed",
    "tags": [],
    "deepnote_to_be_reexecuted": false,
    "source_hash": "d991cab6",
    "execution_start": 1667725081817,
    "execution_millis": 514,
    "deepnote_cell_type": "code",
    "deepnote_cell_height": 287.5,
    "deepnote_output_heights": [
     195.5
    ]
   },
   "outputs": [
    {
     "output_type": "execute_result",
     "execution_count": 19,
     "data": {
      "text/plain": "Pipeline(steps=[('transformer',\n                 ColumnTransformer(remainder='passthrough',\n                                   transformers=[('encoder', OneHotEncoder(),\n                                                  ['ext'])])),\n                ('scaler', StandardScaler()),\n                ('classifier', LogisticRegression())])",
      "text/html": "<style>#sk-container-id-7 {color: black;background-color: white;}#sk-container-id-7 pre{padding: 0;}#sk-container-id-7 div.sk-toggleable {background-color: white;}#sk-container-id-7 label.sk-toggleable__label {cursor: pointer;display: block;width: 100%;margin-bottom: 0;padding: 0.3em;box-sizing: border-box;text-align: center;}#sk-container-id-7 label.sk-toggleable__label-arrow:before {content: \"▸\";float: left;margin-right: 0.25em;color: #696969;}#sk-container-id-7 label.sk-toggleable__label-arrow:hover:before {color: black;}#sk-container-id-7 div.sk-estimator:hover label.sk-toggleable__label-arrow:before {color: black;}#sk-container-id-7 div.sk-toggleable__content {max-height: 0;max-width: 0;overflow: hidden;text-align: left;background-color: #f0f8ff;}#sk-container-id-7 div.sk-toggleable__content pre {margin: 0.2em;color: black;border-radius: 0.25em;background-color: #f0f8ff;}#sk-container-id-7 input.sk-toggleable__control:checked~div.sk-toggleable__content {max-height: 200px;max-width: 100%;overflow: auto;}#sk-container-id-7 input.sk-toggleable__control:checked~label.sk-toggleable__label-arrow:before {content: \"▾\";}#sk-container-id-7 div.sk-estimator input.sk-toggleable__control:checked~label.sk-toggleable__label {background-color: #d4ebff;}#sk-container-id-7 div.sk-label input.sk-toggleable__control:checked~label.sk-toggleable__label {background-color: #d4ebff;}#sk-container-id-7 input.sk-hidden--visually {border: 0;clip: rect(1px 1px 1px 1px);clip: rect(1px, 1px, 1px, 1px);height: 1px;margin: -1px;overflow: hidden;padding: 0;position: absolute;width: 1px;}#sk-container-id-7 div.sk-estimator {font-family: monospace;background-color: #f0f8ff;border: 1px dotted black;border-radius: 0.25em;box-sizing: border-box;margin-bottom: 0.5em;}#sk-container-id-7 div.sk-estimator:hover {background-color: #d4ebff;}#sk-container-id-7 div.sk-parallel-item::after {content: \"\";width: 100%;border-bottom: 1px solid gray;flex-grow: 1;}#sk-container-id-7 div.sk-label:hover label.sk-toggleable__label {background-color: #d4ebff;}#sk-container-id-7 div.sk-serial::before {content: \"\";position: absolute;border-left: 1px solid gray;box-sizing: border-box;top: 0;bottom: 0;left: 50%;z-index: 0;}#sk-container-id-7 div.sk-serial {display: flex;flex-direction: column;align-items: center;background-color: white;padding-right: 0.2em;padding-left: 0.2em;position: relative;}#sk-container-id-7 div.sk-item {position: relative;z-index: 1;}#sk-container-id-7 div.sk-parallel {display: flex;align-items: stretch;justify-content: center;background-color: white;position: relative;}#sk-container-id-7 div.sk-item::before, #sk-container-id-7 div.sk-parallel-item::before {content: \"\";position: absolute;border-left: 1px solid gray;box-sizing: border-box;top: 0;bottom: 0;left: 50%;z-index: -1;}#sk-container-id-7 div.sk-parallel-item {display: flex;flex-direction: column;z-index: 1;position: relative;background-color: white;}#sk-container-id-7 div.sk-parallel-item:first-child::after {align-self: flex-end;width: 50%;}#sk-container-id-7 div.sk-parallel-item:last-child::after {align-self: flex-start;width: 50%;}#sk-container-id-7 div.sk-parallel-item:only-child::after {width: 0;}#sk-container-id-7 div.sk-dashed-wrapped {border: 1px dashed gray;margin: 0 0.4em 0.5em 0.4em;box-sizing: border-box;padding-bottom: 0.4em;background-color: white;}#sk-container-id-7 div.sk-label label {font-family: monospace;font-weight: bold;display: inline-block;line-height: 1.2em;}#sk-container-id-7 div.sk-label-container {text-align: center;}#sk-container-id-7 div.sk-container {/* jupyter's `normalize.less` sets `[hidden] { display: none; }` but bootstrap.min.css set `[hidden] { display: none !important; }` so we also need the `!important` here to be able to override the default hidden behavior on the sphinx rendered scikit-learn.org. See: https://github.com/scikit-learn/scikit-learn/issues/21755 */display: inline-block !important;position: relative;}#sk-container-id-7 div.sk-text-repr-fallback {display: none;}</style><div id=\"sk-container-id-7\" class=\"sk-top-container\"><div class=\"sk-text-repr-fallback\"><pre>Pipeline(steps=[(&#x27;transformer&#x27;,\n                 ColumnTransformer(remainder=&#x27;passthrough&#x27;,\n                                   transformers=[(&#x27;encoder&#x27;, OneHotEncoder(),\n                                                  [&#x27;ext&#x27;])])),\n                (&#x27;scaler&#x27;, StandardScaler()),\n                (&#x27;classifier&#x27;, LogisticRegression())])</pre><b>In a Jupyter environment, please rerun this cell to show the HTML representation or trust the notebook. <br />On GitHub, the HTML representation is unable to render, please try loading this page with nbviewer.org.</b></div><div class=\"sk-container\" hidden><div class=\"sk-item sk-dashed-wrapped\"><div class=\"sk-label-container\"><div class=\"sk-label sk-toggleable\"><input class=\"sk-toggleable__control sk-hidden--visually\" id=\"sk-estimator-id-21\" type=\"checkbox\" ><label for=\"sk-estimator-id-21\" class=\"sk-toggleable__label sk-toggleable__label-arrow\">Pipeline</label><div class=\"sk-toggleable__content\"><pre>Pipeline(steps=[(&#x27;transformer&#x27;,\n                 ColumnTransformer(remainder=&#x27;passthrough&#x27;,\n                                   transformers=[(&#x27;encoder&#x27;, OneHotEncoder(),\n                                                  [&#x27;ext&#x27;])])),\n                (&#x27;scaler&#x27;, StandardScaler()),\n                (&#x27;classifier&#x27;, LogisticRegression())])</pre></div></div></div><div class=\"sk-serial\"><div class=\"sk-item sk-dashed-wrapped\"><div class=\"sk-label-container\"><div class=\"sk-label sk-toggleable\"><input class=\"sk-toggleable__control sk-hidden--visually\" id=\"sk-estimator-id-22\" type=\"checkbox\" ><label for=\"sk-estimator-id-22\" class=\"sk-toggleable__label sk-toggleable__label-arrow\">transformer: ColumnTransformer</label><div class=\"sk-toggleable__content\"><pre>ColumnTransformer(remainder=&#x27;passthrough&#x27;,\n                  transformers=[(&#x27;encoder&#x27;, OneHotEncoder(), [&#x27;ext&#x27;])])</pre></div></div></div><div class=\"sk-parallel\"><div class=\"sk-parallel-item\"><div class=\"sk-item\"><div class=\"sk-label-container\"><div class=\"sk-label sk-toggleable\"><input class=\"sk-toggleable__control sk-hidden--visually\" id=\"sk-estimator-id-23\" type=\"checkbox\" ><label for=\"sk-estimator-id-23\" class=\"sk-toggleable__label sk-toggleable__label-arrow\">encoder</label><div class=\"sk-toggleable__content\"><pre>[&#x27;ext&#x27;]</pre></div></div></div><div class=\"sk-serial\"><div class=\"sk-item\"><div class=\"sk-estimator sk-toggleable\"><input class=\"sk-toggleable__control sk-hidden--visually\" id=\"sk-estimator-id-24\" type=\"checkbox\" ><label for=\"sk-estimator-id-24\" class=\"sk-toggleable__label sk-toggleable__label-arrow\">OneHotEncoder</label><div class=\"sk-toggleable__content\"><pre>OneHotEncoder()</pre></div></div></div></div></div></div><div class=\"sk-parallel-item\"><div class=\"sk-item\"><div class=\"sk-label-container\"><div class=\"sk-label sk-toggleable\"><input class=\"sk-toggleable__control sk-hidden--visually\" id=\"sk-estimator-id-25\" type=\"checkbox\" ><label for=\"sk-estimator-id-25\" class=\"sk-toggleable__label sk-toggleable__label-arrow\">remainder</label><div class=\"sk-toggleable__content\"><pre></pre></div></div></div><div class=\"sk-serial\"><div class=\"sk-item\"><div class=\"sk-estimator sk-toggleable\"><input class=\"sk-toggleable__control sk-hidden--visually\" id=\"sk-estimator-id-26\" type=\"checkbox\" ><label for=\"sk-estimator-id-26\" class=\"sk-toggleable__label sk-toggleable__label-arrow\">passthrough</label><div class=\"sk-toggleable__content\"><pre>passthrough</pre></div></div></div></div></div></div></div></div><div class=\"sk-item\"><div class=\"sk-estimator sk-toggleable\"><input class=\"sk-toggleable__control sk-hidden--visually\" id=\"sk-estimator-id-27\" type=\"checkbox\" ><label for=\"sk-estimator-id-27\" class=\"sk-toggleable__label sk-toggleable__label-arrow\">StandardScaler</label><div class=\"sk-toggleable__content\"><pre>StandardScaler()</pre></div></div></div><div class=\"sk-item\"><div class=\"sk-estimator sk-toggleable\"><input class=\"sk-toggleable__control sk-hidden--visually\" id=\"sk-estimator-id-28\" type=\"checkbox\" ><label for=\"sk-estimator-id-28\" class=\"sk-toggleable__label sk-toggleable__label-arrow\">LogisticRegression</label><div class=\"sk-toggleable__content\"><pre>LogisticRegression()</pre></div></div></div></div></div></div></div>"
     },
     "metadata": {}
    }
   ],
   "execution_count": null
  },
  {
   "cell_type": "markdown",
   "source": "## Model Training & Evaluation",
   "metadata": {
    "cell_id": "717018dba39e4046a1fae622dd362c6c",
    "tags": [],
    "deepnote_cell_type": "markdown",
    "deepnote_cell_height": 70
   }
  },
  {
   "cell_type": "code",
   "source": "model.fit(X_train, y_train)",
   "metadata": {
    "cell_id": "9889025298e648ca88d7d006763cdd25",
    "tags": [],
    "deepnote_to_be_reexecuted": false,
    "source_hash": "69d3b53d",
    "execution_start": 1667725095085,
    "execution_millis": 449,
    "deepnote_cell_type": "code",
    "deepnote_cell_height": 287.5,
    "deepnote_output_heights": [
     195.5
    ]
   },
   "outputs": [
    {
     "output_type": "execute_result",
     "execution_count": 20,
     "data": {
      "text/plain": "Pipeline(steps=[('transformer',\n                 ColumnTransformer(remainder='passthrough',\n                                   transformers=[('encoder', OneHotEncoder(),\n                                                  ['ext'])])),\n                ('scaler', StandardScaler()),\n                ('classifier', LogisticRegression())])",
      "text/html": "<style>#sk-container-id-8 {color: black;background-color: white;}#sk-container-id-8 pre{padding: 0;}#sk-container-id-8 div.sk-toggleable {background-color: white;}#sk-container-id-8 label.sk-toggleable__label {cursor: pointer;display: block;width: 100%;margin-bottom: 0;padding: 0.3em;box-sizing: border-box;text-align: center;}#sk-container-id-8 label.sk-toggleable__label-arrow:before {content: \"▸\";float: left;margin-right: 0.25em;color: #696969;}#sk-container-id-8 label.sk-toggleable__label-arrow:hover:before {color: black;}#sk-container-id-8 div.sk-estimator:hover label.sk-toggleable__label-arrow:before {color: black;}#sk-container-id-8 div.sk-toggleable__content {max-height: 0;max-width: 0;overflow: hidden;text-align: left;background-color: #f0f8ff;}#sk-container-id-8 div.sk-toggleable__content pre {margin: 0.2em;color: black;border-radius: 0.25em;background-color: #f0f8ff;}#sk-container-id-8 input.sk-toggleable__control:checked~div.sk-toggleable__content {max-height: 200px;max-width: 100%;overflow: auto;}#sk-container-id-8 input.sk-toggleable__control:checked~label.sk-toggleable__label-arrow:before {content: \"▾\";}#sk-container-id-8 div.sk-estimator input.sk-toggleable__control:checked~label.sk-toggleable__label {background-color: #d4ebff;}#sk-container-id-8 div.sk-label input.sk-toggleable__control:checked~label.sk-toggleable__label {background-color: #d4ebff;}#sk-container-id-8 input.sk-hidden--visually {border: 0;clip: rect(1px 1px 1px 1px);clip: rect(1px, 1px, 1px, 1px);height: 1px;margin: -1px;overflow: hidden;padding: 0;position: absolute;width: 1px;}#sk-container-id-8 div.sk-estimator {font-family: monospace;background-color: #f0f8ff;border: 1px dotted black;border-radius: 0.25em;box-sizing: border-box;margin-bottom: 0.5em;}#sk-container-id-8 div.sk-estimator:hover {background-color: #d4ebff;}#sk-container-id-8 div.sk-parallel-item::after {content: \"\";width: 100%;border-bottom: 1px solid gray;flex-grow: 1;}#sk-container-id-8 div.sk-label:hover label.sk-toggleable__label {background-color: #d4ebff;}#sk-container-id-8 div.sk-serial::before {content: \"\";position: absolute;border-left: 1px solid gray;box-sizing: border-box;top: 0;bottom: 0;left: 50%;z-index: 0;}#sk-container-id-8 div.sk-serial {display: flex;flex-direction: column;align-items: center;background-color: white;padding-right: 0.2em;padding-left: 0.2em;position: relative;}#sk-container-id-8 div.sk-item {position: relative;z-index: 1;}#sk-container-id-8 div.sk-parallel {display: flex;align-items: stretch;justify-content: center;background-color: white;position: relative;}#sk-container-id-8 div.sk-item::before, #sk-container-id-8 div.sk-parallel-item::before {content: \"\";position: absolute;border-left: 1px solid gray;box-sizing: border-box;top: 0;bottom: 0;left: 50%;z-index: -1;}#sk-container-id-8 div.sk-parallel-item {display: flex;flex-direction: column;z-index: 1;position: relative;background-color: white;}#sk-container-id-8 div.sk-parallel-item:first-child::after {align-self: flex-end;width: 50%;}#sk-container-id-8 div.sk-parallel-item:last-child::after {align-self: flex-start;width: 50%;}#sk-container-id-8 div.sk-parallel-item:only-child::after {width: 0;}#sk-container-id-8 div.sk-dashed-wrapped {border: 1px dashed gray;margin: 0 0.4em 0.5em 0.4em;box-sizing: border-box;padding-bottom: 0.4em;background-color: white;}#sk-container-id-8 div.sk-label label {font-family: monospace;font-weight: bold;display: inline-block;line-height: 1.2em;}#sk-container-id-8 div.sk-label-container {text-align: center;}#sk-container-id-8 div.sk-container {/* jupyter's `normalize.less` sets `[hidden] { display: none; }` but bootstrap.min.css set `[hidden] { display: none !important; }` so we also need the `!important` here to be able to override the default hidden behavior on the sphinx rendered scikit-learn.org. See: https://github.com/scikit-learn/scikit-learn/issues/21755 */display: inline-block !important;position: relative;}#sk-container-id-8 div.sk-text-repr-fallback {display: none;}</style><div id=\"sk-container-id-8\" class=\"sk-top-container\"><div class=\"sk-text-repr-fallback\"><pre>Pipeline(steps=[(&#x27;transformer&#x27;,\n                 ColumnTransformer(remainder=&#x27;passthrough&#x27;,\n                                   transformers=[(&#x27;encoder&#x27;, OneHotEncoder(),\n                                                  [&#x27;ext&#x27;])])),\n                (&#x27;scaler&#x27;, StandardScaler()),\n                (&#x27;classifier&#x27;, LogisticRegression())])</pre><b>In a Jupyter environment, please rerun this cell to show the HTML representation or trust the notebook. <br />On GitHub, the HTML representation is unable to render, please try loading this page with nbviewer.org.</b></div><div class=\"sk-container\" hidden><div class=\"sk-item sk-dashed-wrapped\"><div class=\"sk-label-container\"><div class=\"sk-label sk-toggleable\"><input class=\"sk-toggleable__control sk-hidden--visually\" id=\"sk-estimator-id-29\" type=\"checkbox\" ><label for=\"sk-estimator-id-29\" class=\"sk-toggleable__label sk-toggleable__label-arrow\">Pipeline</label><div class=\"sk-toggleable__content\"><pre>Pipeline(steps=[(&#x27;transformer&#x27;,\n                 ColumnTransformer(remainder=&#x27;passthrough&#x27;,\n                                   transformers=[(&#x27;encoder&#x27;, OneHotEncoder(),\n                                                  [&#x27;ext&#x27;])])),\n                (&#x27;scaler&#x27;, StandardScaler()),\n                (&#x27;classifier&#x27;, LogisticRegression())])</pre></div></div></div><div class=\"sk-serial\"><div class=\"sk-item sk-dashed-wrapped\"><div class=\"sk-label-container\"><div class=\"sk-label sk-toggleable\"><input class=\"sk-toggleable__control sk-hidden--visually\" id=\"sk-estimator-id-30\" type=\"checkbox\" ><label for=\"sk-estimator-id-30\" class=\"sk-toggleable__label sk-toggleable__label-arrow\">transformer: ColumnTransformer</label><div class=\"sk-toggleable__content\"><pre>ColumnTransformer(remainder=&#x27;passthrough&#x27;,\n                  transformers=[(&#x27;encoder&#x27;, OneHotEncoder(), [&#x27;ext&#x27;])])</pre></div></div></div><div class=\"sk-parallel\"><div class=\"sk-parallel-item\"><div class=\"sk-item\"><div class=\"sk-label-container\"><div class=\"sk-label sk-toggleable\"><input class=\"sk-toggleable__control sk-hidden--visually\" id=\"sk-estimator-id-31\" type=\"checkbox\" ><label for=\"sk-estimator-id-31\" class=\"sk-toggleable__label sk-toggleable__label-arrow\">encoder</label><div class=\"sk-toggleable__content\"><pre>[&#x27;ext&#x27;]</pre></div></div></div><div class=\"sk-serial\"><div class=\"sk-item\"><div class=\"sk-estimator sk-toggleable\"><input class=\"sk-toggleable__control sk-hidden--visually\" id=\"sk-estimator-id-32\" type=\"checkbox\" ><label for=\"sk-estimator-id-32\" class=\"sk-toggleable__label sk-toggleable__label-arrow\">OneHotEncoder</label><div class=\"sk-toggleable__content\"><pre>OneHotEncoder()</pre></div></div></div></div></div></div><div class=\"sk-parallel-item\"><div class=\"sk-item\"><div class=\"sk-label-container\"><div class=\"sk-label sk-toggleable\"><input class=\"sk-toggleable__control sk-hidden--visually\" id=\"sk-estimator-id-33\" type=\"checkbox\" ><label for=\"sk-estimator-id-33\" class=\"sk-toggleable__label sk-toggleable__label-arrow\">remainder</label><div class=\"sk-toggleable__content\"><pre>[&#x27;month&#x27;, &#x27;urlLength&#x27;, &#x27;numDigits&#x27;, &#x27;numParams&#x27;, &#x27;num_%20&#x27;, &#x27;num_@&#x27;, &#x27;entropy&#x27;, &#x27;has_ip&#x27;, &#x27;hasHttp&#x27;, &#x27;hasHttps&#x27;, &#x27;urlIsLive&#x27;, &#x27;dsr&#x27;, &#x27;dse&#x27;, &#x27;bodyLength&#x27;, &#x27;numTitles&#x27;, &#x27;numImages&#x27;, &#x27;numLinks&#x27;, &#x27;specialChars&#x27;, &#x27;scriptLength&#x27;, &#x27;sbr&#x27;, &#x27;bscr&#x27;, &#x27;sscr&#x27;]</pre></div></div></div><div class=\"sk-serial\"><div class=\"sk-item\"><div class=\"sk-estimator sk-toggleable\"><input class=\"sk-toggleable__control sk-hidden--visually\" id=\"sk-estimator-id-34\" type=\"checkbox\" ><label for=\"sk-estimator-id-34\" class=\"sk-toggleable__label sk-toggleable__label-arrow\">passthrough</label><div class=\"sk-toggleable__content\"><pre>passthrough</pre></div></div></div></div></div></div></div></div><div class=\"sk-item\"><div class=\"sk-estimator sk-toggleable\"><input class=\"sk-toggleable__control sk-hidden--visually\" id=\"sk-estimator-id-35\" type=\"checkbox\" ><label for=\"sk-estimator-id-35\" class=\"sk-toggleable__label sk-toggleable__label-arrow\">StandardScaler</label><div class=\"sk-toggleable__content\"><pre>StandardScaler()</pre></div></div></div><div class=\"sk-item\"><div class=\"sk-estimator sk-toggleable\"><input class=\"sk-toggleable__control sk-hidden--visually\" id=\"sk-estimator-id-36\" type=\"checkbox\" ><label for=\"sk-estimator-id-36\" class=\"sk-toggleable__label sk-toggleable__label-arrow\">LogisticRegression</label><div class=\"sk-toggleable__content\"><pre>LogisticRegression()</pre></div></div></div></div></div></div></div>"
     },
     "metadata": {}
    }
   ],
   "execution_count": null
  },
  {
   "cell_type": "code",
   "source": "preds_train = model.predict(X_train)\npreds_test = model.predict(X_test)",
   "metadata": {
    "cell_id": "96839e4b2eb9405e8ad1442431d73d08",
    "tags": [],
    "deepnote_to_be_reexecuted": false,
    "source_hash": "aeaa1f16",
    "execution_start": 1667725115450,
    "execution_millis": 27,
    "deepnote_cell_type": "code",
    "deepnote_cell_height": 94
   },
   "outputs": [],
   "execution_count": null
  },
  {
   "cell_type": "code",
   "source": "print(\"Training performances..\")\nprint(classification_report(y_train, preds_train))\nprint()\nprint(\"Test performances..\")\nprint(classification_report(y_test, preds_test))",
   "metadata": {
    "cell_id": "0b9fb054e32145a8a8ca1da3ec195cb1",
    "tags": [],
    "deepnote_to_be_reexecuted": false,
    "source_hash": "ecbabd12",
    "execution_start": 1667725151159,
    "execution_millis": 734,
    "deepnote_cell_type": "code",
    "deepnote_cell_height": 572.59375
   },
   "outputs": [
    {
     "name": "stdout",
     "text": "Training performances..\n              precision    recall  f1-score   support\n\n           0       0.98      1.00      0.99      8803\n           1       0.75      0.22      0.34       277\n\n    accuracy                           0.97      9080\n   macro avg       0.86      0.61      0.66      9080\nweighted avg       0.97      0.97      0.97      9080\n\n\nTest performances..\n              precision    recall  f1-score   support\n\n           0       0.97      1.00      0.99      2197\n           1       0.84      0.22      0.35        73\n\n    accuracy                           0.97      2270\n   macro avg       0.91      0.61      0.67      2270\nweighted avg       0.97      0.97      0.97      2270\n\n",
     "output_type": "stream"
    }
   ],
   "execution_count": null
  },
  {
   "cell_type": "markdown",
   "source": "## Save Model",
   "metadata": {
    "cell_id": "ad2dee33552f426ea83a3233222ead58",
    "tags": [],
    "deepnote_cell_type": "markdown",
    "deepnote_cell_height": 70
   }
  },
  {
   "cell_type": "code",
   "source": "if not MODELS_DIR.exists():\n    MODELS_DIR.mkdir(parents=True)\n\nassert MODELS_DIR.exists()",
   "metadata": {
    "cell_id": "0cdf33a3ffd745a2911c8ef2b3519b8d",
    "tags": [],
    "deepnote_to_be_reexecuted": false,
    "source_hash": "4bb2e00",
    "execution_start": 1667725340052,
    "execution_millis": 2,
    "deepnote_cell_type": "code",
    "deepnote_cell_height": 130
   },
   "outputs": [],
   "execution_count": null
  },
  {
   "cell_type": "code",
   "source": "joblib.dump(model, MODELS_DIR / \"model.joblib\")",
   "metadata": {
    "cell_id": "19d8369b4463469681f1b9a4faace1c6",
    "tags": [],
    "deepnote_to_be_reexecuted": false,
    "source_hash": "28f893c5",
    "execution_start": 1667725350777,
    "execution_millis": 555,
    "deepnote_cell_type": "code",
    "deepnote_cell_height": 112.1875
   },
   "outputs": [
    {
     "output_type": "execute_result",
     "execution_count": 28,
     "data": {
      "text/plain": "['../outputs/models/model.joblib']"
     },
     "metadata": {}
    }
   ],
   "execution_count": null
  },
  {
   "cell_type": "markdown",
   "source": "<a style='text-decoration:none;line-height:16px;display:flex;color:#5B5B62;padding:10px;justify-content:end;' href='https://deepnote.com?utm_source=created-in-deepnote-cell&projectId=8f5c09b4-3349-4c4e-9128-93e08a4345f5' target=\"_blank\">\n<img alt='Created in deepnote.com' style='display:inline;max-height:16px;margin:0px;margin-right:7.5px;' src='data:image/svg+xml;base64,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' > </img>\nCreated in <span style='font-weight:600;margin-left:4px;'>Deepnote</span></a>",
   "metadata": {
    "tags": [],
    "created_in_deepnote_cell": true,
    "deepnote_cell_type": "markdown"
   }
  }
 ],
 "nbformat": 4,
 "nbformat_minor": 2,
 "metadata": {
  "orig_nbformat": 2,
  "deepnote": {},
  "deepnote_notebook_id": "23ac0968-14f5-499f-877b-509b5e6afcb0",
  "deepnote_persisted_session": {
   "createdAt": "2022-11-06T10:03:49.117Z"
  },
  "deepnote_execution_queue": []
 }
}