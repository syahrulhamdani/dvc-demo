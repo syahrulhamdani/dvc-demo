{
 "cells": [
  {
   "cell_type": "code",
   "metadata": {
    "tags": [],
    "cell_id": "3588cbc2c135423ea7d10e447ecabf46",
    "source_hash": "5e556ad8",
    "execution_start": 1667657983107,
    "execution_millis": 573,
    "deepnote_to_be_reexecuted": false,
    "deepnote_cell_type": "code",
    "deepnote_cell_height": 130
   },
   "source": "from pathlib import Path\n\nimport pandas as pd\nfrom sklearn.model_selection import train_test_split",
   "execution_count": null,
   "outputs": []
  },
  {
   "cell_type": "markdown",
   "source": "# End-to-End Experiment Machine Learning - Dataset Versioning\n\nIn this notebook, we will try **Data Version Control (DVC)** as our special version control tool for dataset.",
   "metadata": {
    "tags": [],
    "cell_id": "2f2507eda83c4dc3b0a365419ca27c6c",
    "deepnote_cell_type": "markdown",
    "deepnote_cell_height": 172.390625
   }
  },
  {
   "cell_type": "markdown",
   "source": "## Outline\n\n* Setting up DVC\n* Data versioning\n* Data and model access",
   "metadata": {
    "tags": [],
    "cell_id": "8d6468b9842b4b9b8feac1ae8b8963e2",
    "deepnote_cell_type": "markdown",
    "deepnote_cell_height": 173.1875
   }
  },
  {
   "cell_type": "markdown",
   "source": "## Constants & Hyperparameters\n\nLet's define some constants and hyperparameters we'll use through out this demo.",
   "metadata": {
    "tags": [],
    "cell_id": "9bd4a3ae69dc452cb925559ae6781471",
    "deepnote_cell_type": "markdown",
    "deepnote_cell_height": 108.390625
   }
  },
  {
   "cell_type": "code",
   "metadata": {
    "tags": [],
    "cell_id": "81301f2283d9440ebbd0a9790c270b6d",
    "source_hash": "60099fb3",
    "execution_start": 1667657983684,
    "execution_millis": 1,
    "deepnote_to_be_reexecuted": false,
    "deepnote_cell_type": "code",
    "deepnote_cell_height": 148
   },
   "source": "DATA_ROOT_DIR = Path(\"../data\")\nDATA_RAW_DIR = DATA_ROOT_DIR / \"raw\"\nDATA_SPLIT_DIR = DATA_ROOT_DIR / \"split\"\nPHISHING_DATA_PATH = DATA_RAW_DIR / \"phishing.csv\"\nAIRBNB_DATA_PATH = DATA_RAW_DIR / \"airbnb.csv\"",
   "execution_count": null,
   "outputs": []
  },
  {
   "cell_type": "markdown",
   "source": "## Dataset",
   "metadata": {
    "tags": [],
    "cell_id": "6f62f323da454333b78a537839dbcd63",
    "deepnote_cell_type": "markdown",
    "deepnote_cell_height": 70
   }
  },
  {
   "cell_type": "code",
   "metadata": {
    "tags": [],
    "cell_id": "8ee8520c041d435882b8ba783583ac6d",
    "source_hash": "671e0572",
    "execution_start": 1667657983690,
    "execution_millis": 51,
    "deepnote_to_be_reexecuted": false,
    "deepnote_cell_type": "code",
    "deepnote_cell_height": 76
   },
   "source": "phishing_data = pd.read_csv(PHISHING_DATA_PATH)",
   "execution_count": null,
   "outputs": []
  },
  {
   "cell_type": "code",
   "metadata": {
    "tags": [],
    "cell_id": "b11c165ddea344b381f10635a5af2156",
    "source_hash": "740320d2",
    "execution_start": 1667657983783,
    "execution_millis": 2,
    "deepnote_to_be_reexecuted": false,
    "deepnote_cell_type": "code",
    "deepnote_cell_height": 696
   },
   "source": "phishing_data.info()",
   "execution_count": null,
   "outputs": [
    {
     "name": "stdout",
     "text": "<class 'pandas.core.frame.DataFrame'>\nRangeIndex: 11350 entries, 0 to 11349\nData columns (total 25 columns):\n #   Column        Non-Null Count  Dtype  \n---  ------        --------------  -----  \n 0   target        11350 non-null  int64  \n 1   month         11350 non-null  int64  \n 2   scrape_date   11350 non-null  object \n 3   ext           11350 non-null  object \n 4   urlLength     11350 non-null  int64  \n 5   numDigits     11350 non-null  int64  \n 6   numParams     11350 non-null  int64  \n 7   num_%20       11350 non-null  int64  \n 8   num_@         11350 non-null  int64  \n 9   entropy       11350 non-null  float64\n 10  has_ip        11350 non-null  int64  \n 11  hasHttp       11350 non-null  bool   \n 12  hasHttps      11350 non-null  bool   \n 13  urlIsLive     11350 non-null  bool   \n 14  dsr           11350 non-null  int64  \n 15  dse           11350 non-null  int64  \n 16  bodyLength    11350 non-null  int64  \n 17  numTitles     11350 non-null  int64  \n 18  numImages     11350 non-null  int64  \n 19  numLinks      11350 non-null  int64  \n 20  specialChars  11350 non-null  int64  \n 21  scriptLength  11350 non-null  int64  \n 22  sbr           11350 non-null  float64\n 23  bscr          11350 non-null  float64\n 24  sscr          11350 non-null  float64\ndtypes: bool(3), float64(4), int64(16), object(2)\nmemory usage: 1.9+ MB\n",
     "output_type": "stream"
    }
   ]
  },
  {
   "cell_type": "code",
   "metadata": {
    "tags": [],
    "cell_id": "c981bc7ffd8b4c55b035d255b900c338",
    "source_hash": "bd5a2208",
    "execution_start": 1667657983784,
    "execution_millis": 74,
    "deepnote_to_be_reexecuted": false,
    "deepnote_cell_type": "code",
    "deepnote_cell_height": 595
   },
   "source": "phishing_data.sample(10, random_state=11)",
   "execution_count": null,
   "outputs": [
    {
     "output_type": "execute_result",
     "execution_count": 5,
     "data": {
      "application/vnd.deepnote.dataframe.v3+json": {
       "column_count": 25,
       "row_count": 10,
       "columns": [
        {
         "name": "target",
         "dtype": "int64",
         "stats": {
          "unique_count": 1,
          "nan_count": 0,
          "min": "0",
          "max": "0",
          "histogram": [
           {
            "bin_start": -0.5,
            "bin_end": -0.4,
            "count": 0
           },
           {
            "bin_start": -0.4,
            "bin_end": -0.3,
            "count": 0
           },
           {
            "bin_start": -0.3,
            "bin_end": -0.19999999999999996,
            "count": 0
           },
           {
            "bin_start": -0.19999999999999996,
            "bin_end": -0.09999999999999998,
            "count": 0
           },
           {
            "bin_start": -0.09999999999999998,
            "bin_end": 0,
            "count": 0
           },
           {
            "bin_start": 0,
            "bin_end": 0.10000000000000009,
            "count": 10
           },
           {
            "bin_start": 0.10000000000000009,
            "bin_end": 0.20000000000000007,
            "count": 0
           },
           {
            "bin_start": 0.20000000000000007,
            "bin_end": 0.30000000000000004,
            "count": 0
           },
           {
            "bin_start": 0.30000000000000004,
            "bin_end": 0.4,
            "count": 0
           },
           {
            "bin_start": 0.4,
            "bin_end": 0.5,
            "count": 0
           }
          ]
         }
        },
        {
         "name": "month",
         "dtype": "int64",
         "stats": {
          "unique_count": 7,
          "nan_count": 0,
          "min": "1",
          "max": "12",
          "histogram": [
           {
            "bin_start": 1,
            "bin_end": 2.1,
            "count": 2
           },
           {
            "bin_start": 2.1,
            "bin_end": 3.2,
            "count": 2
           },
           {
            "bin_start": 3.2,
            "bin_end": 4.300000000000001,
            "count": 1
           },
           {
            "bin_start": 4.300000000000001,
            "bin_end": 5.4,
            "count": 0
           },
           {
            "bin_start": 5.4,
            "bin_end": 6.5,
            "count": 0
           },
           {
            "bin_start": 6.5,
            "bin_end": 7.6000000000000005,
            "count": 0
           },
           {
            "bin_start": 7.6000000000000005,
            "bin_end": 8.700000000000001,
            "count": 2
           },
           {
            "bin_start": 8.700000000000001,
            "bin_end": 9.8,
            "count": 0
           },
           {
            "bin_start": 9.8,
            "bin_end": 10.9,
            "count": 0
           },
           {
            "bin_start": 10.9,
            "bin_end": 12,
            "count": 3
           }
          ]
         }
        },
        {
         "name": "scrape_date",
         "dtype": "object",
         "stats": {
          "unique_count": 10,
          "nan_count": 0,
          "categories": [
           {
            "name": "2019-11-20",
            "count": 1
           },
           {
            "name": "2019-12-22",
            "count": 1
           },
           {
            "name": "8 others",
            "count": 8
           }
          ]
         }
        },
        {
         "name": "ext",
         "dtype": "object",
         "stats": {
          "unique_count": 5,
          "nan_count": 0,
          "categories": [
           {
            "name": "country",
            "count": 3
           },
           {
            "name": "com",
            "count": 3
           },
           {
            "name": "3 others",
            "count": 4
           }
          ]
         }
        },
        {
         "name": "urlLength",
         "dtype": "int64",
         "stats": {
          "unique_count": 10,
          "nan_count": 0,
          "min": "89",
          "max": "157",
          "histogram": [
           {
            "bin_start": 89,
            "bin_end": 95.8,
            "count": 2
           },
           {
            "bin_start": 95.8,
            "bin_end": 102.6,
            "count": 3
           },
           {
            "bin_start": 102.6,
            "bin_end": 109.4,
            "count": 2
           },
           {
            "bin_start": 109.4,
            "bin_end": 116.2,
            "count": 0
           },
           {
            "bin_start": 116.2,
            "bin_end": 123,
            "count": 0
           },
           {
            "bin_start": 123,
            "bin_end": 129.8,
            "count": 0
           },
           {
            "bin_start": 129.8,
            "bin_end": 136.6,
            "count": 0
           },
           {
            "bin_start": 136.6,
            "bin_end": 143.4,
            "count": 2
           },
           {
            "bin_start": 143.4,
            "bin_end": 150.2,
            "count": 0
           },
           {
            "bin_start": 150.2,
            "bin_end": 157,
            "count": 1
           }
          ]
         }
        },
        {
         "name": "numDigits",
         "dtype": "int64",
         "stats": {
          "unique_count": 6,
          "nan_count": 0,
          "min": "0",
          "max": "11",
          "histogram": [
           {
            "bin_start": 0,
            "bin_end": 1.1,
            "count": 2
           },
           {
            "bin_start": 1.1,
            "bin_end": 2.2,
            "count": 0
           },
           {
            "bin_start": 2.2,
            "bin_end": 3.3000000000000003,
            "count": 0
           },
           {
            "bin_start": 3.3000000000000003,
            "bin_end": 4.4,
            "count": 1
           },
           {
            "bin_start": 4.4,
            "bin_end": 5.5,
            "count": 0
           },
           {
            "bin_start": 5.5,
            "bin_end": 6.6000000000000005,
            "count": 2
           },
           {
            "bin_start": 6.6000000000000005,
            "bin_end": 7.700000000000001,
            "count": 2
           },
           {
            "bin_start": 7.700000000000001,
            "bin_end": 8.8,
            "count": 2
           },
           {
            "bin_start": 8.8,
            "bin_end": 9.9,
            "count": 0
           },
           {
            "bin_start": 9.9,
            "bin_end": 11,
            "count": 1
           }
          ]
         }
        },
        {
         "name": "numParams",
         "dtype": "int64",
         "stats": {
          "unique_count": 2,
          "nan_count": 0,
          "min": "0",
          "max": "1",
          "histogram": [
           {
            "bin_start": 0,
            "bin_end": 0.1,
            "count": 7
           },
           {
            "bin_start": 0.1,
            "bin_end": 0.2,
            "count": 0
           },
           {
            "bin_start": 0.2,
            "bin_end": 0.30000000000000004,
            "count": 0
           },
           {
            "bin_start": 0.30000000000000004,
            "bin_end": 0.4,
            "count": 0
           },
           {
            "bin_start": 0.4,
            "bin_end": 0.5,
            "count": 0
           },
           {
            "bin_start": 0.5,
            "bin_end": 0.6000000000000001,
            "count": 0
           },
           {
            "bin_start": 0.6000000000000001,
            "bin_end": 0.7000000000000001,
            "count": 0
           },
           {
            "bin_start": 0.7000000000000001,
            "bin_end": 0.8,
            "count": 0
           },
           {
            "bin_start": 0.8,
            "bin_end": 0.9,
            "count": 0
           },
           {
            "bin_start": 0.9,
            "bin_end": 1,
            "count": 3
           }
          ]
         }
        },
        {
         "name": "num_%20",
         "dtype": "int64",
         "stats": {
          "unique_count": 1,
          "nan_count": 0,
          "min": "0",
          "max": "0",
          "histogram": [
           {
            "bin_start": -0.5,
            "bin_end": -0.4,
            "count": 0
           },
           {
            "bin_start": -0.4,
            "bin_end": -0.3,
            "count": 0
           },
           {
            "bin_start": -0.3,
            "bin_end": -0.19999999999999996,
            "count": 0
           },
           {
            "bin_start": -0.19999999999999996,
            "bin_end": -0.09999999999999998,
            "count": 0
           },
           {
            "bin_start": -0.09999999999999998,
            "bin_end": 0,
            "count": 0
           },
           {
            "bin_start": 0,
            "bin_end": 0.10000000000000009,
            "count": 10
           },
           {
            "bin_start": 0.10000000000000009,
            "bin_end": 0.20000000000000007,
            "count": 0
           },
           {
            "bin_start": 0.20000000000000007,
            "bin_end": 0.30000000000000004,
            "count": 0
           },
           {
            "bin_start": 0.30000000000000004,
            "bin_end": 0.4,
            "count": 0
           },
           {
            "bin_start": 0.4,
            "bin_end": 0.5,
            "count": 0
           }
          ]
         }
        },
        {
         "name": "num_@",
         "dtype": "int64",
         "stats": {
          "unique_count": 1,
          "nan_count": 0,
          "min": "0",
          "max": "0",
          "histogram": [
           {
            "bin_start": -0.5,
            "bin_end": -0.4,
            "count": 0
           },
           {
            "bin_start": -0.4,
            "bin_end": -0.3,
            "count": 0
           },
           {
            "bin_start": -0.3,
            "bin_end": -0.19999999999999996,
            "count": 0
           },
           {
            "bin_start": -0.19999999999999996,
            "bin_end": -0.09999999999999998,
            "count": 0
           },
           {
            "bin_start": -0.09999999999999998,
            "bin_end": 0,
            "count": 0
           },
           {
            "bin_start": 0,
            "bin_end": 0.10000000000000009,
            "count": 10
           },
           {
            "bin_start": 0.10000000000000009,
            "bin_end": 0.20000000000000007,
            "count": 0
           },
           {
            "bin_start": 0.20000000000000007,
            "bin_end": 0.30000000000000004,
            "count": 0
           },
           {
            "bin_start": 0.30000000000000004,
            "bin_end": 0.4,
            "count": 0
           },
           {
            "bin_start": 0.4,
            "bin_end": 0.5,
            "count": 0
           }
          ]
         }
        },
        {
         "name": "entropy",
         "dtype": "float64",
         "stats": {
          "unique_count": 10,
          "nan_count": 0,
          "min": "-4.81677609927195",
          "max": "-4.14103929861207",
          "histogram": [
           {
            "bin_start": -4.81677609927195,
            "bin_end": -4.749202419205962,
            "count": 1
           },
           {
            "bin_start": -4.749202419205962,
            "bin_end": -4.681628739139974,
            "count": 0
           },
           {
            "bin_start": -4.681628739139974,
            "bin_end": -4.614055059073986,
            "count": 1
           },
           {
            "bin_start": -4.614055059073986,
            "bin_end": -4.546481379007998,
            "count": 1
           },
           {
            "bin_start": -4.546481379007998,
            "bin_end": -4.47890769894201,
            "count": 2
           },
           {
            "bin_start": -4.47890769894201,
            "bin_end": -4.411334018876022,
            "count": 1
           },
           {
            "bin_start": -4.411334018876022,
            "bin_end": -4.343760338810034,
            "count": 1
           },
           {
            "bin_start": -4.343760338810034,
            "bin_end": -4.276186658744046,
            "count": 1
           },
           {
            "bin_start": -4.276186658744046,
            "bin_end": -4.208612978678058,
            "count": 1
           },
           {
            "bin_start": -4.208612978678058,
            "bin_end": -4.14103929861207,
            "count": 1
           }
          ]
         }
        },
        {
         "name": "has_ip",
         "dtype": "int64",
         "stats": {
          "unique_count": 1,
          "nan_count": 0,
          "min": "0",
          "max": "0",
          "histogram": [
           {
            "bin_start": -0.5,
            "bin_end": -0.4,
            "count": 0
           },
           {
            "bin_start": -0.4,
            "bin_end": -0.3,
            "count": 0
           },
           {
            "bin_start": -0.3,
            "bin_end": -0.19999999999999996,
            "count": 0
           },
           {
            "bin_start": -0.19999999999999996,
            "bin_end": -0.09999999999999998,
            "count": 0
           },
           {
            "bin_start": -0.09999999999999998,
            "bin_end": 0,
            "count": 0
           },
           {
            "bin_start": 0,
            "bin_end": 0.10000000000000009,
            "count": 10
           },
           {
            "bin_start": 0.10000000000000009,
            "bin_end": 0.20000000000000007,
            "count": 0
           },
           {
            "bin_start": 0.20000000000000007,
            "bin_end": 0.30000000000000004,
            "count": 0
           },
           {
            "bin_start": 0.30000000000000004,
            "bin_end": 0.4,
            "count": 0
           },
           {
            "bin_start": 0.4,
            "bin_end": 0.5,
            "count": 0
           }
          ]
         }
        },
        {
         "name": "hasHttp",
         "dtype": "bool",
         "stats": {
          "unique_count": 2,
          "nan_count": 0,
          "categories": [
           {
            "name": "True",
            "count": 9
           },
           {
            "name": "False",
            "count": 1
           }
          ]
         }
        },
        {
         "name": "hasHttps",
         "dtype": "bool",
         "stats": {
          "unique_count": 2,
          "nan_count": 0,
          "categories": [
           {
            "name": "False",
            "count": 9
           },
           {
            "name": "True",
            "count": 1
           }
          ]
         }
        },
        {
         "name": "urlIsLive",
         "dtype": "bool",
         "stats": {
          "unique_count": 1,
          "nan_count": 0,
          "categories": [
           {
            "name": "False",
            "count": 10
           }
          ]
         }
        },
        {
         "name": "dsr",
         "dtype": "int64",
         "stats": {
          "unique_count": 6,
          "nan_count": 0,
          "min": "0",
          "max": "8392",
          "histogram": [
           {
            "bin_start": 0,
            "bin_end": 839.2,
            "count": 5
           },
           {
            "bin_start": 839.2,
            "bin_end": 1678.4,
            "count": 0
           },
           {
            "bin_start": 1678.4,
            "bin_end": 2517.6000000000004,
            "count": 0
           },
           {
            "bin_start": 2517.6000000000004,
            "bin_end": 3356.8,
            "count": 0
           },
           {
            "bin_start": 3356.8,
            "bin_end": 4196,
            "count": 1
           },
           {
            "bin_start": 4196,
            "bin_end": 5035.200000000001,
            "count": 0
           },
           {
            "bin_start": 5035.200000000001,
            "bin_end": 5874.400000000001,
            "count": 0
           },
           {
            "bin_start": 5874.400000000001,
            "bin_end": 6713.6,
            "count": 1
           },
           {
            "bin_start": 6713.6,
            "bin_end": 7552.8,
            "count": 0
           },
           {
            "bin_start": 7552.8,
            "bin_end": 8392,
            "count": 3
           }
          ]
         }
        },
        {
         "name": "dse",
         "dtype": "int64",
         "stats": {
          "unique_count": 6,
          "nan_count": 0,
          "min": "0",
          "max": "1177",
          "histogram": [
           {
            "bin_start": 0,
            "bin_end": 117.7,
            "count": 7
           },
           {
            "bin_start": 117.7,
            "bin_end": 235.4,
            "count": 1
           },
           {
            "bin_start": 235.4,
            "bin_end": 353.1,
            "count": 0
           },
           {
            "bin_start": 353.1,
            "bin_end": 470.8,
            "count": 1
           },
           {
            "bin_start": 470.8,
            "bin_end": 588.5,
            "count": 0
           },
           {
            "bin_start": 588.5,
            "bin_end": 706.2,
            "count": 0
           },
           {
            "bin_start": 706.2,
            "bin_end": 823.9,
            "count": 0
           },
           {
            "bin_start": 823.9,
            "bin_end": 941.6,
            "count": 0
           },
           {
            "bin_start": 941.6,
            "bin_end": 1059.3,
            "count": 0
           },
           {
            "bin_start": 1059.3,
            "bin_end": 1177,
            "count": 1
           }
          ]
         }
        },
        {
         "name": "bodyLength",
         "dtype": "int64",
         "stats": {
          "unique_count": 10,
          "nan_count": 0,
          "min": "0",
          "max": "153173",
          "histogram": [
           {
            "bin_start": 0,
            "bin_end": 15317.3,
            "count": 6
           },
           {
            "bin_start": 15317.3,
            "bin_end": 30634.6,
            "count": 1
           },
           {
            "bin_start": 30634.6,
            "bin_end": 45951.899999999994,
            "count": 0
           },
           {
            "bin_start": 45951.899999999994,
            "bin_end": 61269.2,
            "count": 1
           },
           {
            "bin_start": 61269.2,
            "bin_end": 76586.5,
            "count": 0
           },
           {
            "bin_start": 76586.5,
            "bin_end": 91903.79999999999,
            "count": 1
           },
           {
            "bin_start": 91903.79999999999,
            "bin_end": 107221.09999999999,
            "count": 0
           },
           {
            "bin_start": 107221.09999999999,
            "bin_end": 122538.4,
            "count": 0
           },
           {
            "bin_start": 122538.4,
            "bin_end": 137855.69999999998,
            "count": 0
           },
           {
            "bin_start": 137855.69999999998,
            "bin_end": 153173,
            "count": 1
           }
          ]
         }
        },
        {
         "name": "numTitles",
         "dtype": "int64",
         "stats": {
          "unique_count": 8,
          "nan_count": 0,
          "min": "0",
          "max": "38",
          "histogram": [
           {
            "bin_start": 0,
            "bin_end": 3.8,
            "count": 4
           },
           {
            "bin_start": 3.8,
            "bin_end": 7.6,
            "count": 2
           },
           {
            "bin_start": 7.6,
            "bin_end": 11.399999999999999,
            "count": 2
           },
           {
            "bin_start": 11.399999999999999,
            "bin_end": 15.2,
            "count": 1
           },
           {
            "bin_start": 15.2,
            "bin_end": 19,
            "count": 0
           },
           {
            "bin_start": 19,
            "bin_end": 22.799999999999997,
            "count": 0
           },
           {
            "bin_start": 22.799999999999997,
            "bin_end": 26.599999999999998,
            "count": 0
           },
           {
            "bin_start": 26.599999999999998,
            "bin_end": 30.4,
            "count": 0
           },
           {
            "bin_start": 30.4,
            "bin_end": 34.199999999999996,
            "count": 0
           },
           {
            "bin_start": 34.199999999999996,
            "bin_end": 38,
            "count": 1
           }
          ]
         }
        },
        {
         "name": "numImages",
         "dtype": "int64",
         "stats": {
          "unique_count": 6,
          "nan_count": 0,
          "min": "0",
          "max": "49",
          "histogram": [
           {
            "bin_start": 0,
            "bin_end": 4.9,
            "count": 6
           },
           {
            "bin_start": 4.9,
            "bin_end": 9.8,
            "count": 0
           },
           {
            "bin_start": 9.8,
            "bin_end": 14.700000000000001,
            "count": 0
           },
           {
            "bin_start": 14.700000000000001,
            "bin_end": 19.6,
            "count": 1
           },
           {
            "bin_start": 19.6,
            "bin_end": 24.5,
            "count": 0
           },
           {
            "bin_start": 24.5,
            "bin_end": 29.400000000000002,
            "count": 2
           },
           {
            "bin_start": 29.400000000000002,
            "bin_end": 34.300000000000004,
            "count": 0
           },
           {
            "bin_start": 34.300000000000004,
            "bin_end": 39.2,
            "count": 0
           },
           {
            "bin_start": 39.2,
            "bin_end": 44.1,
            "count": 0
           },
           {
            "bin_start": 44.1,
            "bin_end": 49,
            "count": 1
           }
          ]
         }
        },
        {
         "name": "numLinks",
         "dtype": "int64",
         "stats": {
          "unique_count": 7,
          "nan_count": 0,
          "min": "0",
          "max": "880",
          "histogram": [
           {
            "bin_start": 0,
            "bin_end": 88,
            "count": 6
           },
           {
            "bin_start": 88,
            "bin_end": 176,
            "count": 1
           },
           {
            "bin_start": 176,
            "bin_end": 264,
            "count": 1
           },
           {
            "bin_start": 264,
            "bin_end": 352,
            "count": 1
           },
           {
            "bin_start": 352,
            "bin_end": 440,
            "count": 0
           },
           {
            "bin_start": 440,
            "bin_end": 528,
            "count": 0
           },
           {
            "bin_start": 528,
            "bin_end": 616,
            "count": 0
           },
           {
            "bin_start": 616,
            "bin_end": 704,
            "count": 0
           },
           {
            "bin_start": 704,
            "bin_end": 792,
            "count": 0
           },
           {
            "bin_start": 792,
            "bin_end": 880,
            "count": 1
           }
          ]
         }
        },
        {
         "name": "specialChars",
         "dtype": "int64",
         "stats": {
          "unique_count": 10,
          "nan_count": 0,
          "min": "0",
          "max": "32803",
          "histogram": [
           {
            "bin_start": 0,
            "bin_end": 3280.3,
            "count": 6
           },
           {
            "bin_start": 3280.3,
            "bin_end": 6560.6,
            "count": 1
           },
           {
            "bin_start": 6560.6,
            "bin_end": 9840.900000000001,
            "count": 0
           },
           {
            "bin_start": 9840.900000000001,
            "bin_end": 13121.2,
            "count": 1
           },
           {
            "bin_start": 13121.2,
            "bin_end": 16401.5,
            "count": 0
           },
           {
            "bin_start": 16401.5,
            "bin_end": 19681.800000000003,
            "count": 0
           },
           {
            "bin_start": 19681.800000000003,
            "bin_end": 22962.100000000002,
            "count": 1
           },
           {
            "bin_start": 22962.100000000002,
            "bin_end": 26242.4,
            "count": 0
           },
           {
            "bin_start": 26242.4,
            "bin_end": 29522.7,
            "count": 0
           },
           {
            "bin_start": 29522.7,
            "bin_end": 32803,
            "count": 1
           }
          ]
         }
        },
        {
         "name": "scriptLength",
         "dtype": "int64",
         "stats": {
          "unique_count": 8,
          "nan_count": 0,
          "min": "0",
          "max": "58723",
          "histogram": [
           {
            "bin_start": 0,
            "bin_end": 5872.3,
            "count": 7
           },
           {
            "bin_start": 5872.3,
            "bin_end": 11744.6,
            "count": 1
           },
           {
            "bin_start": 11744.6,
            "bin_end": 17616.9,
            "count": 0
           },
           {
            "bin_start": 17616.9,
            "bin_end": 23489.2,
            "count": 1
           },
           {
            "bin_start": 23489.2,
            "bin_end": 29361.5,
            "count": 0
           },
           {
            "bin_start": 29361.5,
            "bin_end": 35233.8,
            "count": 0
           },
           {
            "bin_start": 35233.8,
            "bin_end": 41106.1,
            "count": 0
           },
           {
            "bin_start": 41106.1,
            "bin_end": 46978.4,
            "count": 0
           },
           {
            "bin_start": 46978.4,
            "bin_end": 52850.700000000004,
            "count": 0
           },
           {
            "bin_start": 52850.700000000004,
            "bin_end": 58723,
            "count": 1
           }
          ]
         }
        },
        {
         "name": "sbr",
         "dtype": "float64",
         "stats": {
          "unique_count": 8,
          "nan_count": 0,
          "min": "0.0",
          "max": "0.712649118335943",
          "histogram": [
           {
            "bin_start": 0,
            "bin_end": 0.0712649118335943,
            "count": 4
           },
           {
            "bin_start": 0.0712649118335943,
            "bin_end": 0.1425298236671886,
            "count": 0
           },
           {
            "bin_start": 0.1425298236671886,
            "bin_end": 0.21379473550078293,
            "count": 0
           },
           {
            "bin_start": 0.21379473550078293,
            "bin_end": 0.2850596473343772,
            "count": 0
           },
           {
            "bin_start": 0.2850596473343772,
            "bin_end": 0.3563245591679715,
            "count": 0
           },
           {
            "bin_start": 0.3563245591679715,
            "bin_end": 0.42758947100156586,
            "count": 1
           },
           {
            "bin_start": 0.42758947100156586,
            "bin_end": 0.49885438283516015,
            "count": 2
           },
           {
            "bin_start": 0.49885438283516015,
            "bin_end": 0.5701192946687544,
            "count": 0
           },
           {
            "bin_start": 0.5701192946687544,
            "bin_end": 0.6413842065023487,
            "count": 2
           },
           {
            "bin_start": 0.6413842065023487,
            "bin_end": 0.712649118335943,
            "count": 1
           }
          ]
         }
        },
        {
         "name": "bscr",
         "dtype": "float64",
         "stats": {
          "unique_count": 10,
          "nan_count": 0,
          "min": "0.0",
          "max": "0.283362218370884",
          "histogram": [
           {
            "bin_start": 0,
            "bin_end": 0.0283362218370884,
            "count": 1
           },
           {
            "bin_start": 0.0283362218370884,
            "bin_end": 0.0566724436741768,
            "count": 0
           },
           {
            "bin_start": 0.0566724436741768,
            "bin_end": 0.08500866551126521,
            "count": 0
           },
           {
            "bin_start": 0.08500866551126521,
            "bin_end": 0.1133448873483536,
            "count": 1
           },
           {
            "bin_start": 0.1133448873483536,
            "bin_end": 0.141681109185442,
            "count": 0
           },
           {
            "bin_start": 0.141681109185442,
            "bin_end": 0.17001733102253042,
            "count": 0
           },
           {
            "bin_start": 0.17001733102253042,
            "bin_end": 0.1983535528596188,
            "count": 1
           },
           {
            "bin_start": 0.1983535528596188,
            "bin_end": 0.2266897746967072,
            "count": 3
           },
           {
            "bin_start": 0.2266897746967072,
            "bin_end": 0.2550259965337956,
            "count": 1
           },
           {
            "bin_start": 0.2550259965337956,
            "bin_end": 0.283362218370884,
            "count": 3
           }
          ]
         }
        },
        {
         "name": "sscr",
         "dtype": "float64",
         "stats": {
          "unique_count": 8,
          "nan_count": 0,
          "min": "0.0",
          "max": "2.96134282807731",
          "histogram": [
           {
            "bin_start": 0,
            "bin_end": 0.296134282807731,
            "count": 4
           },
           {
            "bin_start": 0.296134282807731,
            "bin_end": 0.592268565615462,
            "count": 0
           },
           {
            "bin_start": 0.592268565615462,
            "bin_end": 0.8884028484231931,
            "count": 0
           },
           {
            "bin_start": 0.8884028484231931,
            "bin_end": 1.184537131230924,
            "count": 0
           },
           {
            "bin_start": 1.184537131230924,
            "bin_end": 1.480671414038655,
            "count": 0
           },
           {
            "bin_start": 1.480671414038655,
            "bin_end": 1.7768056968463861,
            "count": 2
           },
           {
            "bin_start": 1.7768056968463861,
            "bin_end": 2.0729399796541172,
            "count": 1
           },
           {
            "bin_start": 2.0729399796541172,
            "bin_end": 2.369074262461848,
            "count": 1
           },
           {
            "bin_start": 2.369074262461848,
            "bin_end": 2.665208545269579,
            "count": 0
           },
           {
            "bin_start": 2.665208545269579,
            "bin_end": 2.96134282807731,
            "count": 2
           }
          ]
         }
        },
        {
         "name": "_deepnote_index_column",
         "dtype": "int64"
        }
       ],
       "rows": [
        {
         "target": "0",
         "month": "11",
         "scrape_date": "2019-11-20",
         "ext": "other",
         "urlLength": "89",
         "numDigits": "8",
         "numParams": "1",
         "num_%20": "0",
         "num_@": "0",
         "entropy": "-4.50657191830907",
         "has_ip": "0",
         "hasHttp": "True",
         "hasHttps": "False",
         "urlIsLive": "False",
         "dsr": "0",
         "dse": "0",
         "bodyLength": "169",
         "numTitles": "2",
         "numImages": "0",
         "numLinks": "0",
         "specialChars": "29",
         "scriptLength": "0",
         "sbr": "0.0",
         "bscr": "0.171597633136095",
         "sscr": "0.0",
         "_deepnote_index_column": "9646"
        },
        {
         "target": "0",
         "month": "12",
         "scrape_date": "2019-12-22",
         "ext": "country",
         "urlLength": "139",
         "numDigits": "6",
         "numParams": "1",
         "num_%20": "0",
         "num_@": "0",
         "entropy": "-4.50407098919517",
         "has_ip": "0",
         "hasHttp": "True",
         "hasHttps": "False",
         "urlIsLive": "False",
         "dsr": "0",
         "dse": "0",
         "bodyLength": "5205",
         "numTitles": "5",
         "numImages": "1",
         "numLinks": "1",
         "specialChars": "986",
         "scriptLength": "2606",
         "sbr": "0.630815840727115",
         "bscr": "0.213373728630167",
         "sscr": "2.95638945233266",
         "_deepnote_index_column": "10622"
        },
        {
         "target": "0",
         "month": "3",
         "scrape_date": "2019-03-04",
         "ext": "country",
         "urlLength": "137",
         "numDigits": "6",
         "numParams": "0",
         "num_%20": "0",
         "num_@": "0",
         "entropy": "-4.40319567383103",
         "has_ip": "0",
         "hasHttp": "True",
         "hasHttps": "False",
         "urlIsLive": "False",
         "dsr": "0",
         "dse": "0",
         "bodyLength": "4617",
         "numTitles": "5",
         "numImages": "0",
         "numLinks": "1",
         "specialChars": "983",
         "scriptLength": "2911",
         "sbr": "0.630495993069092",
         "bscr": "0.212908815247997",
         "sscr": "2.96134282807731",
         "_deepnote_index_column": "1919"
        },
        {
         "target": "0",
         "month": "8",
         "scrape_date": "2019-08-28",
         "ext": "html",
         "urlLength": "96",
         "numDigits": "0",
         "numParams": "0",
         "num_%20": "0",
         "num_@": "0",
         "entropy": "-4.14103929861207",
         "has_ip": "0",
         "hasHttp": "True",
         "hasHttps": "False",
         "urlIsLive": "False",
         "dsr": "3854",
         "dse": "163",
         "bodyLength": "37",
         "numTitles": "1",
         "numImages": "0",
         "numLinks": "0",
         "specialChars": "4",
         "scriptLength": "0",
         "sbr": "0.0",
         "bscr": "0.108108108108108",
         "sscr": "0.0",
         "_deepnote_index_column": "7137"
        },
        {
         "target": "0",
         "month": "4",
         "scrape_date": "2019-04-17",
         "ext": "com",
         "urlLength": "92",
         "numDigits": "4",
         "numParams": "0",
         "num_%20": "0",
         "num_@": "0",
         "entropy": "-4.43492089172635",
         "has_ip": "0",
         "hasHttp": "True",
         "hasHttps": "False",
         "urlIsLive": "False",
         "dsr": "8351",
         "dse": "48",
         "bodyLength": "15937",
         "numTitles": "11",
         "numImages": "49",
         "numLinks": "278",
         "specialChars": "4124",
         "scriptLength": "7644",
         "sbr": "0.47963857689653",
         "bscr": "0.258768902553806",
         "sscr": "1.85354025218235",
         "_deepnote_index_column": "3244"
        },
        {
         "target": "0",
         "month": "1",
         "scrape_date": "2019-01-03",
         "ext": "com",
         "urlLength": "104",
         "numDigits": "11",
         "numParams": "0",
         "num_%20": "0",
         "num_@": "0",
         "entropy": "-4.67109765207705",
         "has_ip": "0",
         "hasHttp": "False",
         "hasHttps": "True",
         "urlIsLive": "False",
         "dsr": "8392",
         "dse": "372",
         "bodyLength": "82401",
         "numTitles": "12",
         "numImages": "28",
         "numLinks": "69",
         "specialChars": "21093",
         "scriptLength": "58723",
         "sbr": "0.712649118335943",
         "bscr": "0.255979903156515",
         "sscr": "2.227203337600152",
         "_deepnote_index_column": "83"
        },
        {
         "target": "0",
         "month": "3",
         "scrape_date": "2019-03-26",
         "ext": "country",
         "urlLength": "100",
         "numDigits": "8",
         "numParams": "0",
         "num_%20": "0",
         "num_@": "0",
         "entropy": "-4.60709127308854",
         "has_ip": "0",
         "hasHttp": "True",
         "hasHttps": "False",
         "urlIsLive": "False",
         "dsr": "0",
         "dse": "0",
         "bodyLength": "153173",
         "numTitles": "1",
         "numImages": "0",
         "numLinks": "191",
         "specialChars": "32803",
         "scriptLength": "5406",
         "sbr": "0.035293426387157",
         "bscr": "0.214156541949299",
         "sscr": "0.16480199981709",
         "_deepnote_index_column": "2561"
        },
        {
         "target": "0",
         "month": "12",
         "scrape_date": "2019-12-08",
         "ext": "html",
         "urlLength": "97",
         "numDigits": "7",
         "numParams": "0",
         "num_%20": "0",
         "num_@": "0",
         "entropy": "-4.28004528466385",
         "has_ip": "0",
         "hasHttp": "True",
         "hasHttps": "False",
         "urlIsLive": "False",
         "dsr": "0",
         "dse": "0",
         "bodyLength": "5767",
         "numTitles": "10",
         "numImages": "16",
         "numLinks": "119",
         "specialChars": "1962",
         "scriptLength": "3284",
         "sbr": "0.474292316580012",
         "bscr": "0.283362218370884",
         "sscr": "1.67380224260958",
         "_deepnote_index_column": "10202"
        },
        {
         "target": "0",
         "month": "2",
         "scrape_date": "2019-02-13",
         "ext": "net",
         "urlLength": "157",
         "numDigits": "7",
         "numParams": "1",
         "num_%20": "0",
         "num_@": "0",
         "entropy": "-4.81677609927195",
         "has_ip": "0",
         "hasHttp": "True",
         "hasHttps": "False",
         "urlIsLive": "False",
         "dsr": "7954",
         "dse": "1177",
         "bodyLength": "48791",
         "numTitles": "38",
         "numImages": "29",
         "numLinks": "880",
         "specialChars": "11736",
         "scriptLength": "20718",
         "sbr": "0.424627492775307",
         "bscr": "0.24053616445656",
         "sscr": "1.76533742331288",
         "_deepnote_index_column": "1301"
        },
        {
         "target": "0",
         "month": "8",
         "scrape_date": "2019-08-05",
         "ext": "com",
         "urlLength": "105",
         "numDigits": "0",
         "numParams": "0",
         "num_%20": "0",
         "num_@": "0",
         "entropy": "-4.22784629391082",
         "has_ip": "0",
         "hasHttp": "True",
         "hasHttps": "False",
         "urlIsLive": "False",
         "dsr": "6176",
         "dse": "32",
         "bodyLength": "0",
         "numTitles": "0",
         "numImages": "0",
         "numLinks": "0",
         "specialChars": "0",
         "scriptLength": "0",
         "sbr": "0.0",
         "bscr": "0.0",
         "sscr": "0.0",
         "_deepnote_index_column": "6502"
        }
       ]
      },
      "text/plain": "       target  month scrape_date      ext  urlLength  numDigits  numParams  \\\n9646        0     11  2019-11-20    other         89          8          1   \n10622       0     12  2019-12-22  country        139          6          1   \n1919        0      3  2019-03-04  country        137          6          0   \n7137        0      8  2019-08-28     html         96          0          0   \n3244        0      4  2019-04-17      com         92          4          0   \n83          0      1  2019-01-03      com        104         11          0   \n2561        0      3  2019-03-26  country        100          8          0   \n10202       0     12  2019-12-08     html         97          7          0   \n1301        0      2  2019-02-13      net        157          7          1   \n6502        0      8  2019-08-05      com        105          0          0   \n\n       num_%20  num_@   entropy  ...   dse  bodyLength  numTitles  numImages  \\\n9646         0      0 -4.506572  ...     0         169          2          0   \n10622        0      0 -4.504071  ...     0        5205          5          1   \n1919         0      0 -4.403196  ...     0        4617          5          0   \n7137         0      0 -4.141039  ...   163          37          1          0   \n3244         0      0 -4.434921  ...    48       15937         11         49   \n83           0      0 -4.671098  ...   372       82401         12         28   \n2561         0      0 -4.607091  ...     0      153173          1          0   \n10202        0      0 -4.280045  ...     0        5767         10         16   \n1301         0      0 -4.816776  ...  1177       48791         38         29   \n6502         0      0 -4.227846  ...    32           0          0          0   \n\n       numLinks  specialChars  scriptLength       sbr      bscr      sscr  \n9646          0            29             0  0.000000  0.171598  0.000000  \n10622         1           986          2606  0.630816  0.213374  2.956389  \n1919          1           983          2911  0.630496  0.212909  2.961343  \n7137          0             4             0  0.000000  0.108108  0.000000  \n3244        278          4124          7644  0.479639  0.258769  1.853540  \n83           69         21093         58723  0.712649  0.255980  2.227203  \n2561        191         32803          5406  0.035293  0.214157  0.164802  \n10202       119          1962          3284  0.474292  0.283362  1.673802  \n1301        880         11736         20718  0.424627  0.240536  1.765337  \n6502          0             0             0  0.000000  0.000000  0.000000  \n\n[10 rows x 25 columns]",
      "text/html": "<div>\n<style scoped>\n    .dataframe tbody tr th:only-of-type {\n        vertical-align: middle;\n    }\n\n    .dataframe tbody tr th {\n        vertical-align: top;\n    }\n\n    .dataframe thead th {\n        text-align: right;\n    }\n</style>\n<table border=\"1\" class=\"dataframe\">\n  <thead>\n    <tr style=\"text-align: right;\">\n      <th></th>\n      <th>target</th>\n      <th>month</th>\n      <th>scrape_date</th>\n      <th>ext</th>\n      <th>urlLength</th>\n      <th>numDigits</th>\n      <th>numParams</th>\n      <th>num_%20</th>\n      <th>num_@</th>\n      <th>entropy</th>\n      <th>...</th>\n      <th>dse</th>\n      <th>bodyLength</th>\n      <th>numTitles</th>\n      <th>numImages</th>\n      <th>numLinks</th>\n      <th>specialChars</th>\n      <th>scriptLength</th>\n      <th>sbr</th>\n      <th>bscr</th>\n      <th>sscr</th>\n    </tr>\n  </thead>\n  <tbody>\n    <tr>\n      <th>9646</th>\n      <td>0</td>\n      <td>11</td>\n      <td>2019-11-20</td>\n      <td>other</td>\n      <td>89</td>\n      <td>8</td>\n      <td>1</td>\n      <td>0</td>\n      <td>0</td>\n      <td>-4.506572</td>\n      <td>...</td>\n      <td>0</td>\n      <td>169</td>\n      <td>2</td>\n      <td>0</td>\n      <td>0</td>\n      <td>29</td>\n      <td>0</td>\n      <td>0.000000</td>\n      <td>0.171598</td>\n      <td>0.000000</td>\n    </tr>\n    <tr>\n      <th>10622</th>\n      <td>0</td>\n      <td>12</td>\n      <td>2019-12-22</td>\n      <td>country</td>\n      <td>139</td>\n      <td>6</td>\n      <td>1</td>\n      <td>0</td>\n      <td>0</td>\n      <td>-4.504071</td>\n      <td>...</td>\n      <td>0</td>\n      <td>5205</td>\n      <td>5</td>\n      <td>1</td>\n      <td>1</td>\n      <td>986</td>\n      <td>2606</td>\n      <td>0.630816</td>\n      <td>0.213374</td>\n      <td>2.956389</td>\n    </tr>\n    <tr>\n      <th>1919</th>\n      <td>0</td>\n      <td>3</td>\n      <td>2019-03-04</td>\n      <td>country</td>\n      <td>137</td>\n      <td>6</td>\n      <td>0</td>\n      <td>0</td>\n      <td>0</td>\n      <td>-4.403196</td>\n      <td>...</td>\n      <td>0</td>\n      <td>4617</td>\n      <td>5</td>\n      <td>0</td>\n      <td>1</td>\n      <td>983</td>\n      <td>2911</td>\n      <td>0.630496</td>\n      <td>0.212909</td>\n      <td>2.961343</td>\n    </tr>\n    <tr>\n      <th>7137</th>\n      <td>0</td>\n      <td>8</td>\n      <td>2019-08-28</td>\n      <td>html</td>\n      <td>96</td>\n      <td>0</td>\n      <td>0</td>\n      <td>0</td>\n      <td>0</td>\n      <td>-4.141039</td>\n      <td>...</td>\n      <td>163</td>\n      <td>37</td>\n      <td>1</td>\n      <td>0</td>\n      <td>0</td>\n      <td>4</td>\n      <td>0</td>\n      <td>0.000000</td>\n      <td>0.108108</td>\n      <td>0.000000</td>\n    </tr>\n    <tr>\n      <th>3244</th>\n      <td>0</td>\n      <td>4</td>\n      <td>2019-04-17</td>\n      <td>com</td>\n      <td>92</td>\n      <td>4</td>\n      <td>0</td>\n      <td>0</td>\n      <td>0</td>\n      <td>-4.434921</td>\n      <td>...</td>\n      <td>48</td>\n      <td>15937</td>\n      <td>11</td>\n      <td>49</td>\n      <td>278</td>\n      <td>4124</td>\n      <td>7644</td>\n      <td>0.479639</td>\n      <td>0.258769</td>\n      <td>1.853540</td>\n    </tr>\n    <tr>\n      <th>83</th>\n      <td>0</td>\n      <td>1</td>\n      <td>2019-01-03</td>\n      <td>com</td>\n      <td>104</td>\n      <td>11</td>\n      <td>0</td>\n      <td>0</td>\n      <td>0</td>\n      <td>-4.671098</td>\n      <td>...</td>\n      <td>372</td>\n      <td>82401</td>\n      <td>12</td>\n      <td>28</td>\n      <td>69</td>\n      <td>21093</td>\n      <td>58723</td>\n      <td>0.712649</td>\n      <td>0.255980</td>\n      <td>2.227203</td>\n    </tr>\n    <tr>\n      <th>2561</th>\n      <td>0</td>\n      <td>3</td>\n      <td>2019-03-26</td>\n      <td>country</td>\n      <td>100</td>\n      <td>8</td>\n      <td>0</td>\n      <td>0</td>\n      <td>0</td>\n      <td>-4.607091</td>\n      <td>...</td>\n      <td>0</td>\n      <td>153173</td>\n      <td>1</td>\n      <td>0</td>\n      <td>191</td>\n      <td>32803</td>\n      <td>5406</td>\n      <td>0.035293</td>\n      <td>0.214157</td>\n      <td>0.164802</td>\n    </tr>\n    <tr>\n      <th>10202</th>\n      <td>0</td>\n      <td>12</td>\n      <td>2019-12-08</td>\n      <td>html</td>\n      <td>97</td>\n      <td>7</td>\n      <td>0</td>\n      <td>0</td>\n      <td>0</td>\n      <td>-4.280045</td>\n      <td>...</td>\n      <td>0</td>\n      <td>5767</td>\n      <td>10</td>\n      <td>16</td>\n      <td>119</td>\n      <td>1962</td>\n      <td>3284</td>\n      <td>0.474292</td>\n      <td>0.283362</td>\n      <td>1.673802</td>\n    </tr>\n    <tr>\n      <th>1301</th>\n      <td>0</td>\n      <td>2</td>\n      <td>2019-02-13</td>\n      <td>net</td>\n      <td>157</td>\n      <td>7</td>\n      <td>1</td>\n      <td>0</td>\n      <td>0</td>\n      <td>-4.816776</td>\n      <td>...</td>\n      <td>1177</td>\n      <td>48791</td>\n      <td>38</td>\n      <td>29</td>\n      <td>880</td>\n      <td>11736</td>\n      <td>20718</td>\n      <td>0.424627</td>\n      <td>0.240536</td>\n      <td>1.765337</td>\n    </tr>\n    <tr>\n      <th>6502</th>\n      <td>0</td>\n      <td>8</td>\n      <td>2019-08-05</td>\n      <td>com</td>\n      <td>105</td>\n      <td>0</td>\n      <td>0</td>\n      <td>0</td>\n      <td>0</td>\n      <td>-4.227846</td>\n      <td>...</td>\n      <td>32</td>\n      <td>0</td>\n      <td>0</td>\n      <td>0</td>\n      <td>0</td>\n      <td>0</td>\n      <td>0</td>\n      <td>0.000000</td>\n      <td>0.000000</td>\n      <td>0.000000</td>\n    </tr>\n  </tbody>\n</table>\n<p>10 rows × 25 columns</p>\n</div>"
     },
     "metadata": {}
    }
   ]
  },
  {
   "cell_type": "markdown",
   "source": "## Split Dataset",
   "metadata": {
    "tags": [],
    "cell_id": "e38d7c3eaa7b492f84de4fe5df500e8b",
    "deepnote_cell_type": "markdown",
    "deepnote_cell_height": 70
   }
  },
  {
   "cell_type": "code",
   "metadata": {
    "tags": [],
    "cell_id": "7bb1b1d454524fa1baf762d314827a61",
    "source_hash": "4cf32cb4",
    "execution_start": 1667658062181,
    "execution_millis": 5,
    "deepnote_to_be_reexecuted": false,
    "deepnote_cell_type": "code",
    "deepnote_cell_height": 166
   },
   "source": "X_train, X_test, y_train, y_test = train_test_split(\n    phishing_data.drop(columns=[\"target\", \"scrape_date\"]),\n    phishing_data[\"target\"],\n    test_size=.2,\n    random_state=11\n)",
   "execution_count": null,
   "outputs": []
  },
  {
   "cell_type": "code",
   "metadata": {
    "tags": [],
    "cell_id": "5aaf764a88ca44a987f59c88030ed572",
    "source_hash": "2626d646",
    "execution_start": 1667658062774,
    "execution_millis": 8,
    "deepnote_to_be_reexecuted": false,
    "deepnote_cell_type": "code",
    "deepnote_cell_height": 198.390625
   },
   "source": "phishing_train = pd.concat([X_train, y_train], axis=1)\nphishing_test = pd.concat([X_test, y_test], axis=1)\n\nprint(\"Train size:\", phishing_train.shape[0])\nprint(\"Test size:\", phishing_test.shape[0])",
   "execution_count": null,
   "outputs": [
    {
     "name": "stdout",
     "text": "Train size: 9080\nTest size: 2270\n",
     "output_type": "stream"
    }
   ]
  },
  {
   "cell_type": "markdown",
   "source": "## Save Splitted Dataset",
   "metadata": {
    "tags": [],
    "cell_id": "e2a303717e734163baacb4ab1aafb47b",
    "deepnote_cell_type": "markdown",
    "deepnote_cell_height": 70
   }
  },
  {
   "cell_type": "code",
   "metadata": {
    "tags": [],
    "cell_id": "2bee2f7c5d0b4b68af78e2e81c886ec6",
    "source_hash": "4e083169",
    "execution_start": 1667657983985,
    "execution_millis": 0,
    "deepnote_to_be_reexecuted": false,
    "deepnote_cell_type": "code",
    "deepnote_cell_height": 130
   },
   "source": "if not DATA_SPLIT_DIR.exists():\n    DATA_SPLIT_DIR.mkdir(parents=True)\n\nassert DATA_SPLIT_DIR.exists()",
   "execution_count": null,
   "outputs": []
  },
  {
   "cell_type": "code",
   "metadata": {
    "tags": [],
    "cell_id": "f6967894ee454d6daee4483d0c8bf5ce",
    "source_hash": "eacdbc4",
    "execution_start": 1667657983986,
    "execution_millis": 47,
    "deepnote_to_be_reexecuted": false,
    "deepnote_cell_type": "code",
    "deepnote_cell_height": 94
   },
   "source": "phishing_train.to_csv(DATA_SPLIT_DIR / \"phishing_train.csv\", index=False)\nphishing_test.to_csv(DATA_SPLIT_DIR / \"phishing_test.csv\", index=False)",
   "execution_count": null,
   "outputs": []
  },
  {
   "cell_type": "markdown",
   "source": "## Track Data\n\n* To track dataset, use `dvc add` command. You can run it via terminal with command below.\n\n    ```bash\n    dvc add ../data/split/phishing_train.csv ../data/split/phishing_test.csv\n    ```\n\n    or, via jupyter cell with command:\n\n    ```ipython\n    !dvc add ../data/split/phishing_train.csv ../data/split/phishing_test.csv\n    ```\n\n    You will be shown something similar with below image:\n    ![](img/tracked_data_result.png)\n\n* After that, there should be more files now in the repository, especially in the same directory with the tracked data.\n\n    ![](img/dvc_files.png)\n\n* Finally, to track the the `.dvc` files of the tracked data using Git, we just add all the files in `data/split` and commit them.\n\n    ![](img/add_dvc_files.png)",
   "metadata": {
    "tags": [],
    "cell_id": "3057dca6956c484dbfb2e0a80944b237",
    "deepnote_cell_type": "markdown",
    "deepnote_cell_height": 1008.3125
   }
  },
  {
   "cell_type": "markdown",
   "source": "## Next Version\n\nLet's split the dataset with different seed to demonstrate multiple versioning",
   "metadata": {
    "tags": [],
    "cell_id": "f5905808f34340cd991ae870f9d5ec7f",
    "deepnote_to_be_reexecuted": false,
    "source_hash": "f9016496",
    "execution_start": 1667572136001,
    "execution_millis": 1036,
    "deepnote_cell_type": "markdown",
    "deepnote_cell_height": 108.390625
   }
  },
  {
   "cell_type": "code",
   "metadata": {
    "tags": [],
    "cell_id": "b5c12cefa2b94abea521adfa003878cd",
    "source_hash": "a1f1f76f",
    "deepnote_to_be_reexecuted": false,
    "allow_embed": false,
    "execution_start": 1667658100879,
    "execution_millis": 4,
    "deepnote_cell_type": "code",
    "deepnote_cell_height": 166
   },
   "source": "X_train, X_test, y_train, y_test = train_test_split(\n    phishing_data.drop(columns=[\"target\", \"scrape_date\"]),\n    phishing_data[\"target\"],\n    test_size=.2,\n    random_state=111\n)",
   "execution_count": null,
   "outputs": []
  },
  {
   "cell_type": "code",
   "metadata": {
    "tags": [],
    "cell_id": "d3dc5ce8b0034d7aa4615af86e914fb3",
    "source_hash": "2626d646",
    "deepnote_to_be_reexecuted": false,
    "allow_embed": false,
    "execution_start": 1667658105306,
    "execution_millis": 113,
    "deepnote_cell_type": "code",
    "deepnote_cell_height": 198.390625
   },
   "source": "phishing_train = pd.concat([X_train, y_train], axis=1)\nphishing_test = pd.concat([X_test, y_test], axis=1)\n\nprint(\"Train size:\", phishing_train.shape[0])\nprint(\"Test size:\", phishing_test.shape[0])",
   "execution_count": null,
   "outputs": [
    {
     "name": "stdout",
     "text": "Train size: 9080\nTest size: 2270\n",
     "output_type": "stream"
    }
   ]
  },
  {
   "cell_type": "code",
   "metadata": {
    "tags": [],
    "cell_id": "12dd9a328ae14e9eaf08ae76567aaf10",
    "source_hash": "eacdbc4",
    "deepnote_to_be_reexecuted": false,
    "allow_embed": false,
    "execution_start": 1667658125915,
    "execution_millis": 120,
    "deepnote_cell_type": "code",
    "deepnote_cell_height": 94
   },
   "source": "phishing_train.to_csv(DATA_SPLIT_DIR / \"phishing_train.csv\", index=False)\nphishing_test.to_csv(DATA_SPLIT_DIR / \"phishing_test.csv\", index=False)",
   "execution_count": null,
   "outputs": []
  },
  {
   "cell_type": "markdown",
   "source": "The resulted split is now different with the previous one due to different `random_state`. This will trigger DVC to detect **modification**. Similar to `git status`, we can check the status of the DVC-related files using command `dvc status`.\n\n![dvc_status](img/dvc_status.png)\n\nTo track the new version, you need to:\n* `dvc add` those new versions\n* add a new remote storage versions and set as the default remote storage\n* `git add` and `git commit` the changes\n* `dvc push` the new versions to the remote storage",
   "metadata": {
    "cell_id": "8b803bb882aa4575a603a525da517bf6",
    "tags": [],
    "deepnote_cell_type": "markdown",
    "deepnote_cell_height": 408.78125
   }
  },
  {
   "cell_type": "markdown",
   "source": "<a style='text-decoration:none;line-height:16px;display:flex;color:#5B5B62;padding:10px;justify-content:end;' href='https://deepnote.com?utm_source=created-in-deepnote-cell&projectId=8f5c09b4-3349-4c4e-9128-93e08a4345f5' target=\"_blank\">\n<img alt='Created in deepnote.com' style='display:inline;max-height:16px;margin:0px;margin-right:7.5px;' src='data:image/svg+xml;base64,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' > </img>\nCreated in <span style='font-weight:600;margin-left:4px;'>Deepnote</span></a>",
   "metadata": {
    "tags": [],
    "created_in_deepnote_cell": true,
    "deepnote_cell_type": "markdown"
   }
  }
 ],
 "nbformat": 4,
 "nbformat_minor": 0,
 "metadata": {
  "deepnote": {},
  "orig_nbformat": 2,
  "deepnote_notebook_id": "2bf9d3ffa6854139b6e5b673e74d2958",
  "deepnote_persisted_session": {
   "createdAt": "2022-11-05T15:45:25.004Z"
  },
  "deepnote_execution_queue": []
 }
}